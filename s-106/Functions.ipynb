{
 "cells": [
  {
   "cell_type": "markdown",
   "id": "9eb0f57b",
   "metadata": {
    "lang": "en"
   },
   "source": [
    "# Functional Programming"
   ]
  },
  {
   "cell_type": "markdown",
   "id": "71960ae2",
   "metadata": {},
   "source": [
    "## Intro Notes"
   ]
  },
  {
   "cell_type": "markdown",
   "id": "conceptual-behalf",
   "metadata": {
    "jupyter": {
     "source_hidden": true
    }
   },
   "source": [
    "![elgif](https://media.giphy.com/media/CuMiNoTRz2bYc/giphy.gif)\n",
    "\n",
    "\n",
    "Functional programming is a programming paradigm that treats computation as the evaluation of mathematical functions and avoids changing state and mutable data. It is a declarative style of programming that focuses on expressing what should be done rather than how it should be done. In functional programming, functions are first-class citizens, which means **they can be treated like any other data type, such as integers or strings.**\n",
    "\n",
    "Functional programming emphasizes the use of pure functions, which are functions that have no side effects and always produce the same output for the same input. Pure functions are deterministic and rely only on their input parameters to calculate the result, making them predictable and easy to reason about.\n",
    "\n",
    "Some key concepts in functional programming include:\n",
    "\n",
    "1. **Immutable Data**: In functional programming, data is typically immutable, which means once it is created, it cannot be modified. Instead, new data is created by applying transformations to existing data.\n",
    "\n",
    "2. **Higher-Order Functions**: Functional programming languages support higher-order functions, which are functions that can take other functions as arguments or return functions as results. This allows for more abstract and reusable code.\n",
    "\n",
    "3. **Recursion**: Recursion is often used in functional programming to solve problems by breaking them down into smaller, similar sub-problems. Recursion replaces loops in imperative programming.\n",
    "\n",
    "4. **First-Class Functions**: In functional programming languages, functions are first-class citizens, meaning they can be assigned to variables, passed as arguments, and returned as values.\n",
    "\n",
    "5. **Map, Filter, and Reduce**: Functional programming languages commonly use functions like `map`, `filter`, and `reduce` to process collections of data in a functional way. These functions abstract away the details of iteration and mutable state.\n",
    "\n",
    "Functional programming languages, such as Haskell, Lisp, and Erlang, are designed with functional principles in mind. However, many mainstream programming languages, including Python, JavaScript, and Ruby, also support functional programming to varying degrees. Developers can apply functional programming concepts and techniques in these languages to write more concise, predictable, and maintainable code.\n",
    "\n",
    "In this notebook, we will explore functional programming concepts and how they can be applied in practice using Python, a language that combines functional and imperative programming paradigms."
   ]
  },
  {
   "cell_type": "markdown",
   "id": "incorrect-serum",
   "metadata": {
    "jupyter": {
     "source_hidden": true
    },
    "toc": true
   },
   "source": [
    "<h1>Table of Contents<span class=\"tocSkip\"></span></h1>\n",
    "<div class=\"toc\"><ul class=\"toc-item\"><li><span><a href=\"#Your-contributions-🚀\" data-toc-modified-id=\"Your-contributions-🚀-1\"><span class=\"toc-item-num\">1&nbsp;&nbsp;</span>Your contributions 🚀</a></span></li><li><span><a href=\"#What-is-functional-programming?:-paradigms\" data-toc-modified-id=\"What-is-functional-programming?:-paradigms-2\"><span class=\"toc-item-num\">2&nbsp;&nbsp;</span>What is functional programming?: paradigms</a></span></li><li><span><a href=\"#Built-in-functions\" data-toc-modified-id=\"Built-in-functions-3\"><span class=\"toc-item-num\">3&nbsp;&nbsp;</span>Built-in functions</a></span></li><li><span><a href=\"#USER---DEFINED-FUNCTIONS\" data-toc-modified-id=\"USER---DEFINED-FUNCTIONS-4\"><span class=\"toc-item-num\">4&nbsp;&nbsp;</span>USER - DEFINED FUNCTIONS</a></span><ul class=\"toc-item\"><li><span><a href=\"#def\" data-toc-modified-id=\"def-4.1\"><span class=\"toc-item-num\">4.1&nbsp;&nbsp;</span>def</a></span></li><li><span><a href=\"#name\" data-toc-modified-id=\"name-4.2\"><span class=\"toc-item-num\">4.2&nbsp;&nbsp;</span>name</a></span></li><li><span><a href=\"#parameters\" data-toc-modified-id=\"parameters-4.3\"><span class=\"toc-item-num\">4.3&nbsp;&nbsp;</span>parameters</a></span></li><li><span><a href=\"#arguments\" data-toc-modified-id=\"arguments-4.4\"><span class=\"toc-item-num\">4.4&nbsp;&nbsp;</span>arguments</a></span><ul class=\"toc-item\"><li><span><a href=\"#default-parameters\" data-toc-modified-id=\"default-parameters-4.4.1\"><span class=\"toc-item-num\">4.4.1&nbsp;&nbsp;</span>default parameters</a></span></li><li><span><a href=\"#positional-arguments-&amp;-keyword-arguments\" data-toc-modified-id=\"positional-arguments-&amp;-keyword-arguments-4.4.2\"><span class=\"toc-item-num\">4.4.2&nbsp;&nbsp;</span>positional arguments &amp; keyword arguments</a></span></li><li><span><a href=\"#*args\" data-toc-modified-id=\"*args-4.4.3\"><span class=\"toc-item-num\">4.4.3&nbsp;&nbsp;</span><code>*args</code></a></span></li><li><span><a href=\"#**kwargs\" data-toc-modified-id=\"**kwargs-4.4.4\"><span class=\"toc-item-num\">4.4.4&nbsp;&nbsp;</span>**kwargs</a></span></li><li><span><a href=\"#order\" data-toc-modified-id=\"order-4.4.5\"><span class=\"toc-item-num\">4.4.5&nbsp;&nbsp;</span>order</a></span></li></ul></li><li><span><a href=\"#return\" data-toc-modified-id=\"return-4.5\"><span class=\"toc-item-num\">4.5&nbsp;&nbsp;</span>return</a></span></li><li><span><a href=\"#Docstrings:-documentation-strings\" data-toc-modified-id=\"Docstrings:-documentation-strings-4.6\"><span class=\"toc-item-num\">4.6&nbsp;&nbsp;</span>Docstrings: documentation strings</a></span></li><li><span><a href=\"#source-code\" data-toc-modified-id=\"source-code-4.7\"><span class=\"toc-item-num\">4.7&nbsp;&nbsp;</span>source code</a></span></li></ul></li><li><span><a href=\"#Scope-of-functions\" data-toc-modified-id=\"Scope-of-functions-5\"><span class=\"toc-item-num\">5&nbsp;&nbsp;</span>Scope of functions</a></span></li><li><span><a href=\"#Lambda\" data-toc-modified-id=\"Lambda-6\"><span class=\"toc-item-num\">6&nbsp;&nbsp;</span>Lambda</a></span><ul class=\"toc-item\"><li><span><a href=\"#Syntax-of-a-lambda\" data-toc-modified-id=\"Syntax-of-a-lambda-6.1\"><span class=\"toc-item-num\">6.1&nbsp;&nbsp;</span>Syntax of a lambda</a></span></li><li><span><a href=\"#lambda-examples\" data-toc-modified-id=\"lambda-examples-6.2\"><span class=\"toc-item-num\">6.2&nbsp;&nbsp;</span>lambda examples</a></span></li><li><span><a href=\"#lambda--as-the-option-of-some-other-built-in-functions\" data-toc-modified-id=\"lambda--as-the-option-of-some-other-built-in-functions-6.3\"><span class=\"toc-item-num\">6.3&nbsp;&nbsp;</span><code>lambda</code>  as the option of some other built-in functions</a></span></li></ul></li><li><span><a href=\"#Functions:-functions-as-return-of-another-function\" data-toc-modified-id=\"Functions:-functions-as-return-of-another-function-7\"><span class=\"toc-item-num\">7&nbsp;&nbsp;</span>Functions: functions as return of another function</a></span></li><li><span><a href=\"#Recursion\" data-toc-modified-id=\"Recursion-8\"><span class=\"toc-item-num\">8&nbsp;&nbsp;</span>Recursion</a></span></li><li><span><a href=\"#Summary\" data-toc-modified-id=\"Summary-9\"><span class=\"toc-item-num\">9&nbsp;&nbsp;</span>Summary</a></span></li></ul></div>"
   ]
  },
  {
   "cell_type": "markdown",
   "id": "c8dbbad6",
   "metadata": {
    "lang": "en"
   },
   "source": [
    "## Your contributions 🚀\n",
    "What are your thoughts on functions in functional programming? Do you have experiences, examples, or questions related to their properties and usefulness? Feel free to contribute your insights and engage in discussions with fellow learners as we delve deeper into the world of functional programming. Your contributions are valuable and can enhance our collective understanding of this programming paradigm."
   ]
  },
  {
   "cell_type": "markdown",
   "id": "67819644",
   "metadata": {},
   "source": [
    "#### A function is/does: ..."
   ]
  },
  {
   "cell_type": "markdown",
   "id": "199cb1a8",
   "metadata": {
    "lang": "en"
   },
   "source": [
    "**Usefulness of Functions:** Functions are incredibly useful in various programming scenarios, and they offer several advantages:\n",
    "\n",
    "- **Modularity**: Functions encapsulate specific behavior or logic, making it easier to organize and maintain code. Modular code is more reusable and easier to test.\n",
    "\n",
    "- **Abstraction**: Functions allow you to abstract away complex operations behind a simple interface. This abstraction simplifies code consumption and promotes a clear separation of concerns.\n",
    "\n",
    "- **Reusability**: Well-designed functions can be reused across different parts of your codebase or even in different projects. This reuse reduces duplicated code and promotes consistency.\n",
    "\n",
    "- **Testing**: Functions make it easier to write unit tests. With pure functions, you can predict the output for a given input, simplifying the testing process.\n",
    "\n",
    "- **Readability**: Functions with clear names and well-defined responsibilities improve code readability and make it easier for other developers (and your future self) to understand the code.\n",
    "\n",
    "![](https://www.thetechedvocate.org/wp-content/uploads/2023/05/1_709ugF12LLkYxvb839YNlg.png)\n",
    "\n"
   ]
  },
  {
   "cell_type": "code",
   "execution_count": 2,
   "id": "da020f03",
   "metadata": {},
   "outputs": [
    {
     "data": {
      "text/plain": [
       "0.003681700104802824"
      ]
     },
     "execution_count": 2,
     "metadata": {},
     "output_type": "execute_result"
    }
   ],
   "source": [
    "## EXAMPLE OF FUNCTIONS\n",
    "\n",
    "\n",
    "# Simple function\n",
    "def weird_math (a, b):\n",
    "    result = (a**2 + b)/b**4\n",
    "    return result\n",
    "\n",
    "# Calling the function\n",
    "weird_math(10, 2)\n",
    "\n",
    "weird_math(20, 1)\n",
    "\n",
    "weird_math(3, 113)\n",
    "\n",
    "weird_math(112, 43)"
   ]
  },
  {
   "cell_type": "markdown",
   "id": "082e3760",
   "metadata": {},
   "source": [
    "## What is functional programming? Before that: paradigms\n",
    "\n",
    "In the world of programming, a paradigm is a fundamental approach or style for structuring code and solving problems. Different programming languages are often associated with specific paradigms that guide how developers write and organize their code. **Python**, as a versatile and flexible language, is often referred to as a **multi-paradigm programming language**. But what exactly does this mean?\n",
    "\n",
    "When we say that Python is a multi-paradigm programming language, we mean that it welcomes and supports multiple programming styles or paradigms. These paradigms are like different lenses through which developers can view and address problems. Python is known for its philosophy, which emphasizes code readability and simplicity, and it accommodates various paradigms to offer developers the freedom to choose the most suitable approach for a given task.\n",
    "\n",
    "\n",
    "**The Three Predominant Paradigms:** Python primarily supports three predominant paradigms, each offering a distinct way of organizing and structuring code:"
   ]
  },
  {
   "cell_type": "markdown",
   "id": "1a292435",
   "metadata": {},
   "source": [
    "### Imperative Programming\n",
    "1. **Imperative Programming**: Imperative programming is a traditional and commonly used paradigm. It focuses on describing the sequence of steps or instructions to achieve a specific goal. In imperative programming, you write code that explicitly states how to perform actions, manipulate data, and control program flow. Python allows developers to write imperative code when needed."
   ]
  },
  {
   "cell_type": "code",
   "execution_count": 2,
   "id": "f67456a2",
   "metadata": {},
   "outputs": [
    {
     "name": "stdout",
     "output_type": "stream",
     "text": [
      "The sum of the first 5 positive integers is: 15\n"
     ]
    }
   ],
   "source": [
    "# Imperative Programming Example\n",
    "\n",
    "# Suppose we want to calculate the sum of the first 5 positive integers (1 + 2 + 3 + 4 + 5) using imperative programming.\n",
    "\n",
    "# Initialize a variable to store the sum\n",
    "sum_of_numbers = 0\n",
    "\n",
    "# Use a loop to iterate through the numbers\n",
    "for i in range(1, 6):\n",
    "    # Add the current number to the sum\n",
    "    sum_of_numbers += i\n",
    "\n",
    "# Print the result\n",
    "print(\"The sum of the first 5 positive integers is:\", sum_of_numbers)"
   ]
  },
  {
   "cell_type": "markdown",
   "id": "20b50a5d",
   "metadata": {},
   "source": [
    "In this example:\n",
    "\n",
    "- We start by initializing a variable `sum_of_numbers` to store the sum.\n",
    "\n",
    "- We use a for loop to iterate through the numbers from 1 to 5. Inside the loop:\n",
    "\n",
    "  - We add the current number `i` to the `sum_of_numbers` using the `+=` operator. This is the imperative part where we explicitly specify the steps to update the sum.\n",
    "\n",
    "- Finally, we print the result."
   ]
  },
  {
   "cell_type": "markdown",
   "id": "02cb1e2b",
   "metadata": {},
   "source": [
    "### Object-Oriented Programming (OOP)\n",
    "2. **Object-Oriented Programming (OOP)**: Python excels in object-oriented programming. In this paradigm, code is organized around objects, which are instances of classes. Objects encapsulate data and behavior, making it easier to model real-world entities and their interactions. Python provides robust support for creating and working with classes and objects."
   ]
  },
  {
   "cell_type": "markdown",
   "id": "77fcc965",
   "metadata": {},
   "source": [
    "```python\n",
    "# Define a class called \"Person\"\n",
    "class Person:\n",
    "    # Constructor method to initialize the object's properties\n",
    "    def __init__(self, name, age):\n",
    "        self.name = name\n",
    "        self.age = age\n",
    "```\n",
    "- We start by defining a class called \"Person.\" Think of a class as a blueprint for creating objects. In this case, we're creating a blueprint for representing people.\n",
    "\n",
    "- Inside the class, we have a special method called `__init__`. This method is a constructor, which means it gets called automatically when a new object of the class is created.\n",
    "\n",
    "- The `__init__` method takes three parameters: `self` (a reference to the object being created), `name`, and `age`. It initializes two properties of the object: `name` and `age`.\n",
    "\n",
    "```python\n",
    "\n",
    "    # Method to display information about the person\n",
    "    def display_info(self):\n",
    "        print(f\"Name: {self.name}, Age: {self.age}\")\n",
    "```\n",
    "\n",
    "- Next, we define a method called `display_info` within the class. This method is used to display information about the person.\n",
    "\n",
    "- The `self` parameter is a reference to the object itself. It allows us to access the object's properties (in this case, `name` and `age`) within the method.\n",
    "\n",
    "- Inside the `display_info` method, we use the `print` function to display the person's name and age.\n",
    "\n",
    "```python\n",
    "\n",
    "# Create two instances (objects) of the Person class\n",
    "person1 = Person(\"Alice\", 30)\n",
    "person2 = Person(\"Bob\", 25)\n",
    "```\n",
    "\n",
    "- Now, we create two instances (or objects) of the `Person` class: `person1` and `person2`. These objects represent individual people.\n",
    "\n",
    "- We provide values for the `name` and `age` properties when creating each object. For example, `person1` represents a person named \"Alice\" who is 30 years old.\n",
    "\n",
    "```python\n",
    "# Call the display_info() method for each person\n",
    "person1.display_info()\n",
    "person2.display_info()\n",
    "```\n",
    "\n",
    "- Finally, we call the `display_info` method for each person object. This method displays their name and age."
   ]
  },
  {
   "cell_type": "code",
   "execution_count": null,
   "id": "1a042fd3",
   "metadata": {},
   "outputs": [],
   "source": [
    "# Define a class called \"Person\"\n",
    "class Person:\n",
    "    # Constructor method to initialize the object's properties\n",
    "    def __init__(self, name, age):\n",
    "        self.name = name\n",
    "        self.age = age\n",
    "\n",
    "    # Method to display information about the person\n",
    "    def display_info(self):\n",
    "        print(f\"Name: {self.name}, Age: {self.age}\")\n",
    "\n",
    "# Create two instances (objects) of the Person class\n",
    "person1 = Person(\"Alice\", 30)\n",
    "person2 = Person(\"Bob\", 25)\n",
    "\n",
    "# Call the display_info() method for each person\n",
    "person1.display_info()\n",
    "person2.display_info()"
   ]
  },
  {
   "cell_type": "markdown",
   "id": "2a679fd0",
   "metadata": {},
   "source": [
    "### Functional Programming (FP)\n",
    "3. **Functional Programming (FP)**: Functional programming is a paradigm that treats computation as the evaluation of mathematical functions and avoids changing state and mutable data. It encourages immutability, pure functions, and the use of higher-order functions. While Python is not a purely functional language like Haskell, it offers functional programming features and can be used in a functional style to write clean and concise code."
   ]
  },
  {
   "cell_type": "code",
   "execution_count": null,
   "id": "8a9c96f4",
   "metadata": {},
   "outputs": [],
   "source": [
    "# Define a function\n",
    "def greet(name):\n",
    "    return f\"Hello, {name}!\""
   ]
  },
  {
   "cell_type": "code",
   "execution_count": null,
   "id": "ba3d56c6",
   "metadata": {},
   "outputs": [],
   "source": [
    "greet(\"Santi\")"
   ]
  },
  {
   "cell_type": "code",
   "execution_count": null,
   "id": "c62ffe83",
   "metadata": {},
   "outputs": [],
   "source": [
    "greet(\"Clara\")"
   ]
  },
  {
   "cell_type": "code",
   "execution_count": null,
   "id": "f7cd903a",
   "metadata": {},
   "outputs": [],
   "source": [
    "greet(\"Laura\")"
   ]
  },
  {
   "cell_type": "markdown",
   "id": "7f89fd70",
   "metadata": {
    "lang": "en"
   },
   "source": [
    "## Built-in functions"
   ]
  },
  {
   "cell_type": "markdown",
   "id": "80919246",
   "metadata": {
    "lang": "en"
   },
   "source": [
    "Python provides a set of built-in functions and types that are readily available for use. These functions cover a wide range of common tasks and operations. You can find a comprehensive list of these functions in the [Python documentation](https://docs.python.org/3/library/functions.html), organized in alphabetical order.\n",
    "\n",
    "**Example: Using the `print()` Function**\n",
    "\n",
    "One of the most fundamental built-in functions in Python is `print()`. It allows you to display output to the console. Here's how you use it:"
   ]
  },
  {
   "cell_type": "code",
   "execution_count": null,
   "id": "b8e2371a",
   "metadata": {},
   "outputs": [],
   "source": [
    "print(\"Hello!\")"
   ]
  },
  {
   "cell_type": "markdown",
   "id": "d36c02f5",
   "metadata": {
    "lang": "en"
   },
   "source": [
    "Understand that these built-in functions are an integral part of Python and are implemented in C, which means their source code isn't directly accessible or inspectable from Python itself.\n",
    "\n",
    "While we can't view the code for built-in functions like `print()` using Python's `inspect module`, we can still use them effectively to perform a wide range of tasks in our Python programs. the Print function looks like this 👇🏻"
   ]
  },
  {
   "cell_type": "markdown",
   "id": "b41c33ab",
   "metadata": {},
   "source": [
    "### Print Function code"
   ]
  },
  {
   "cell_type": "markdown",
   "id": "through-silicon",
   "metadata": {},
   "source": [
    "```C\n",
    "static PyObject *\n",
    "builtin_print(PyObject *self, PyObject *args, PyObject *kwds)\n",
    "{\n",
    "    static char *kwlist[] = {\"sep\", \"end\", \"file\", 0};\n",
    "    static PyObject *dummy_args = NULL;\n",
    "    static PyObject *unicode_newline = NULL, *unicode_space = NULL;\n",
    "    static PyObject *str_newline = NULL, *str_space = NULL;\n",
    "    PyObject *newline, *space;\n",
    "    PyObject *sep = NULL, *end = NULL, *file = NULL;\n",
    "    int i, err, use_unicode = 0;\n",
    "\n",
    "    if (dummy_args == NULL) {\n",
    "        if (!(dummy_args = PyTuple_New(0)))\n",
    "            return NULL;\n",
    "    }\n",
    "    if (str_newline == NULL) {\n",
    "        str_newline = PyString_FromString(\"\\n\");\n",
    "        if (str_newline == NULL)\n",
    "            return NULL;\n",
    "        str_space = PyString_FromString(\" \");\n",
    "        if (str_space == NULL) {\n",
    "            Py_CLEAR(str_newline);\n",
    "            return NULL;\n",
    "        }\n",
    "#ifdef Py_USING_UNICODE\n",
    "        unicode_newline = PyUnicode_FromString(\"\\n\");\n",
    "        if (unicode_newline == NULL) {\n",
    "            Py_CLEAR(str_newline);\n",
    "            Py_CLEAR(str_space);\n",
    "            return NULL;\n",
    "        }\n",
    "        unicode_space = PyUnicode_FromString(\" \");\n",
    "        if (unicode_space == NULL) {\n",
    "            Py_CLEAR(str_newline);\n",
    "            Py_CLEAR(str_space);\n",
    "            Py_CLEAR(unicode_space);\n",
    "            return NULL;\n",
    "        }\n",
    "#endif\n",
    "    }\n",
    "    if (!PyArg_ParseTupleAndKeywords(dummy_args, kwds, \"|OOO:print\",\n",
    "                                     kwlist, &sep, &end, &file))\n",
    "        return NULL;\n",
    "    if (file == NULL || file == Py_None) {\n",
    "        file = PySys_GetObject(\"stdout\");\n",
    "        /* sys.stdout may be None when FILE* stdout isn't connected */\n",
    "        if (file == Py_None)\n",
    "            Py_RETURN_NONE;\n",
    "    }\n",
    "    if (sep == Py_None) {\n",
    "        sep = NULL;\n",
    "    }\n",
    "    else if (sep) {\n",
    "        if (PyUnicode_Check(sep)) {\n",
    "            use_unicode = 1;\n",
    "        }\n",
    "        else if (!PyString_Check(sep)) {\n",
    "            PyErr_Format(PyExc_TypeError,\n",
    "                         \"sep must be None, str or unicode, not %.200s\",\n",
    "                         sep->ob_type->tp_name);\n",
    "            return NULL;\n",
    "        }\n",
    "    }\n",
    "    if (end == Py_None)\n",
    "        end = NULL;\n",
    "    else if (end) {\n",
    "        if (PyUnicode_Check(end)) {\n",
    "            use_unicode = 1;\n",
    "        }\n",
    "        else if (!PyString_Check(end)) {\n",
    "            PyErr_Format(PyExc_TypeError,\n",
    "                         \"end must be None, str or unicode, not %.200s\",\n",
    "                         end->ob_type->tp_name);\n",
    "            return NULL;\n",
    "        }\n",
    "    }\n",
    "\n",
    "    if (!use_unicode) {\n",
    "        for (i = 0; i < PyTuple_Size(args); i++) {\n",
    "            if (PyUnicode_Check(PyTuple_GET_ITEM(args, i))) {\n",
    "                use_unicode = 1;\n",
    "                break;\n",
    "            }\n",
    "        }\n",
    "    }\n",
    "    if (use_unicode) {\n",
    "        newline = unicode_newline;\n",
    "        space = unicode_space;\n",
    "    }\n",
    "    else {\n",
    "        newline = str_newline;\n",
    "        space = str_space;\n",
    "    }\n",
    "\n",
    "    for (i = 0; i < PyTuple_Size(args); i++) {\n",
    "        if (i > 0) {\n",
    "            if (sep == NULL)\n",
    "                err = PyFile_WriteObject(space, file,\n",
    "                                         Py_PRINT_RAW);\n",
    "            else\n",
    "                err = PyFile_WriteObject(sep, file,\n",
    "                                         Py_PRINT_RAW);\n",
    "            if (err)\n",
    "                return NULL;\n",
    "        }\n",
    "        err = PyFile_WriteObject(PyTuple_GetItem(args, i), file,\n",
    "                                 Py_PRINT_RAW);\n",
    "        if (err)\n",
    "            return NULL;\n",
    "    }\n",
    "\n",
    "    if (end == NULL)\n",
    "        err = PyFile_WriteObject(newline, file, Py_PRINT_RAW);\n",
    "    else\n",
    "        err = PyFile_WriteObject(end, file, Py_PRINT_RAW);\n",
    "    if (err)\n",
    "        return NULL;\n",
    "\n",
    "    Py_RETURN_NONE;\n",
    "}\n",
    "```"
   ]
  },
  {
   "cell_type": "code",
   "execution_count": null,
   "id": "f7695035",
   "metadata": {
    "scrolled": true
   },
   "outputs": [],
   "source": [
    "# All this code, to print hi ...\n",
    "print(\"hi!\")"
   ]
  },
  {
   "cell_type": "markdown",
   "id": "3e439cb7",
   "metadata": {},
   "source": [
    "## Exercise"
   ]
  },
  {
   "cell_type": "markdown",
   "id": "6b586df5",
   "metadata": {},
   "source": [
    "### Exercise: Paradigm Exploration\n",
    "\n",
    "**Background:**\n",
    "Python is a versatile programming language that supports multiple programming paradigms: imperative, object-oriented, and functional. Each paradigm offers a different approach to solving problems. In this exercise, you will explore these paradigms by working on a common task: processing a list of numbers.\n",
    "\n",
    "**Task:**\n",
    "You have been given a list of numbers: `[1, 2, 3, 4, 5]`.\n",
    "\n",
    "1. **Imperative Paradigm (Procedural Programming):**\n",
    "   Write a Python script using imperative programming to calculate the sum of all the numbers in the list and print the result.\n",
    "\n",
    "2. **Object-Oriented Paradigm:**\n",
    "   Create a Python class called `NumberProcessor`. This class should have a method called `calculate_sum` that calculates the sum of numbers in the list and returns the result. Instantiate the class, call the method, and print the result.\n",
    "\n",
    "3. **Functional Paradigm:**\n",
    "   Write a Python function called `calculate_sum_functional` using a functional programming approach. This function should take the list of numbers as its argument and return the sum. Use the `reduce` function from the `functools` module to achieve this. Call the function and print the result.\n",
    "\n",
    "**Hints:**\n",
    "- For the functional paradigm, you will need to import the `functools` module and use the `reduce` function.\n",
    "- You can create an instance variable in the object-oriented paradigm to store the list of numbers.\n",
    "\n",
    "**Expected Output:**\n",
    "You should have three separate implementations, each printing the same result: the sum of the numbers in the list `[1, 2, 3, 4, 5]`."
   ]
  },
  {
   "cell_type": "code",
   "execution_count": null,
   "id": "6651b251",
   "metadata": {},
   "outputs": [],
   "source": [
    "# Imperative Paradigm (Procedural Programming)\n",
    "# -------------------------------------------\n",
    "numbers = [1, 2, 3, 4, 5]\n",
    "sum_result = 0\n",
    "\n",
    "# [Some operation]\n",
    "\n",
    "print(\"Imperative Paradigm Result:\", sum_result)"
   ]
  },
  {
   "cell_type": "code",
   "execution_count": null,
   "id": "f03cdc23",
   "metadata": {},
   "outputs": [],
   "source": [
    "# Object-Oriented Paradigm\n",
    "# -------------------------------------------\n",
    "\n",
    "# Hint on operation: sum(self.numbers)\n",
    "\n",
    "# Instantiate the class and call the method\n",
    "number_processor = NumberProcessor([1, 2, 3, 4, 5])\n",
    "result_object_oriented = number_processor.calculate_sum()\n",
    "print(\"Object-Oriented Paradigm Result:\", result_object_oriented)"
   ]
  },
  {
   "cell_type": "code",
   "execution_count": null,
   "id": "64f58724",
   "metadata": {},
   "outputs": [],
   "source": [
    "# Functional Paradigm\n",
    "# -------------------------------------------\n",
    "from functools import reduce\n",
    "\n",
    "# Hint on reduce statement: reduce(lambda x, y: x + y, numbers)\n",
    "\n",
    "# Call the function\n",
    "numbers = [1, 2, 3, 4, 5]\n",
    "result_functional = calculate_sum_functional(numbers)\n",
    "print(\"Functional Paradigm Result:\", result_functional)"
   ]
  },
  {
   "cell_type": "markdown",
   "id": "9a1296b6",
   "metadata": {},
   "source": [
    "## USER - DEFINED FUNCTIONS"
   ]
  },
  {
   "cell_type": "markdown",
   "id": "9197a86b",
   "metadata": {},
   "source": [
    "USER - DEFINED FUNCTIONS\n",
    "\n",
    "In Python, you can create your own functions to encapsulate a specific set of instructions and reuse them throughout your code. These functions are called user-defined functions. Let's break down the key components of user-defined functions:\n",
    "\n",
    "- **`def`**: The `def` keyword is used to define a new function. It is followed by the function's name, parentheses, and a colon. For example, `def my_function():` defines a function named `my_function`.\n",
    "\n",
    "- **`name`**: The name of the function is chosen by the programmer and should be descriptive of the function's purpose. It follows the `def` keyword, and in the example above, the name is `my_function`.\n",
    "\n",
    "- **`params`**: Inside the parentheses, you can specify parameters (also known as arguments) that the function will accept. Parameters are variables that act as placeholders for the values you pass into the function when you call it. For example, `def greet(name):` defines a function that accepts one parameter, `name`.\n",
    "\n",
    "- **`args`**: Arguments are the actual values that you provide when calling a function. For instance, when you call `greet(\"Alice\")`, `\"Alice\"` is the argument passed to the `name` parameter.\n",
    "\n",
    "- **`return`**: The `return` statement is used to specify what the function should output or return. Functions can perform calculations or processes and then return a result. For example, `def add(x, y): return x + y` defines a function that adds two numbers and returns the result.\n",
    "\n",
    "- **`docstrings`**: Docstrings (documentation strings) are used to provide a description of what the function does. They are enclosed in triple quotes (either single or double) and are placed immediately after the function definition. Docstrings help other programmers (and yourself) understand the purpose and usage of the function. For instance:\n",
    "\n",
    "  ```python\n",
    "  # Defining input and output type, is part of clean code standards (however, not many people use it)\n",
    "  def greet(name: str) -> str:\n",
    "      \"\"\"\n",
    "      This function greets the person passed in as a parameter.\n",
    "      \"\"\"\n",
    "      return f\"Hello, {name}!\"\n",
    "  ```\n",
    "- **`source code`**: The source code of the function contains the actual instructions that the function performs. It is indented below the function definition and is executed when the function is called."
   ]
  },
  {
   "cell_type": "markdown",
   "id": "85d6428d",
   "metadata": {
    "lang": "en"
   },
   "source": [
    "### **Syntax for DEFINING a function**\n",
    "\n",
    "To define a function in Python, use the following syntax:\n",
    "\n",
    "```python\n",
    "\n",
    "def name_function(input params):\n",
    "    # The colon and the indentation indicate that we're defining a function.\n",
    "    # Inside the function, you take some action or perform a series of operations.\n",
    "    take an action\n",
    "    return() # The return statement specifies the value to be returned from the function.\n",
    "```\n",
    "\n",
    "In this syntax:\n",
    "\n",
    "- `def` is the keyword used to define a function.\n",
    "- `name_function` is the name you give to your function. It should follow Python naming conventions and be descriptive of the function's purpose.\n",
    "- `input_params` are the parameters (inputs) that the function expects. They are enclosed in parentheses and separated by commas if there are multiple parameters.\n",
    "- The colon `:` and the indentation (whitespace) are used to define the function's code block. Everything indented under the function definition is part of the function's body.\n",
    "- Inside the function, you write the code to perform specific actions or calculations.\n",
    "- The `return` statement specifies what value the function should produce as output. It ends the execution of the function and sends the result back to the caller.\n",
    "\n",
    "\n",
    "**Syntax for CALLING a function**\n",
    "\n",
    "To call (invoke) a function in Python, you use the following syntax:\n",
    "\n",
    "`name_of_the_function(argument1, argument2, ...)`\n",
    "\n",
    "\n",
    "- `name_of_the_function` is the name of the function you want to call.\n",
    "- `argument1, argument2, ...` are the values or expressions you want to pass as arguments to the function. These are the inputs that the function will work with.\n",
    "\n",
    "If you want to save the result returned by the function, you can assign it to a variable like this:\n",
    "\n",
    "`result = name_of_the_function(argument1, argument2, ...)`\n",
    "\n",
    "In this case, `result` will hold the value returned by the function, and you can use it in your code as needed."
   ]
  },
  {
   "cell_type": "markdown",
   "id": "d14ec799",
   "metadata": {},
   "source": [
    "### def\n",
    "\n",
    "The `def` statement serves as the starting point for creating your custom functions. It specifies the name of the function, the input parameters it expects, and the block of code that constitutes the function's body. Functions defined with `def` can be called multiple times throughout your program, making your code more modular, readable, and efficient."
   ]
  },
  {
   "cell_type": "code",
   "execution_count": null,
   "id": "758fc928",
   "metadata": {},
   "outputs": [],
   "source": [
    "# Simple function\n",
    "def addition (a, b):\n",
    "    result = a * b\n",
    "    #print(f\"Hello! The result is {result}\")\n",
    "    return result\n",
    "\n",
    "# Calling the function\n",
    "addition(10, 2)"
   ]
  },
  {
   "cell_type": "code",
   "execution_count": null,
   "id": "3ecf0294",
   "metadata": {},
   "outputs": [],
   "source": [
    "# That is how I like a function, clean and readable\n",
    "\n",
    "def addition(a: int, b: int) -> int:\n",
    "    \"\"\"\n",
    "    This function performs addition of two numbers.\n",
    "\n",
    "    Args:\n",
    "        a (int): The first number.\n",
    "        b (int): The second number.\n",
    "\n",
    "    Returns:\n",
    "        int: The result of the addition.\n",
    "    \"\"\"\n",
    "    result = a + b\n",
    "    return result\n",
    "\n",
    "# Calling the function\n",
    "result = addition(10, 2)\n",
    "print(f\"The result is {result}\")"
   ]
  },
  {
   "cell_type": "markdown",
   "id": "5808796f",
   "metadata": {},
   "source": [
    "**In this revised version:**\n",
    "\n",
    "- We've added clear and informative docstrings that describe what the function does, what arguments it accepts, and what it returns.\n",
    "\n",
    "- We've used data type annotations (`a: int`, `b: int`, `-> int`) to indicate the expected types for function parameters and return values.\n",
    "\n",
    "- We've provided a meaningful function name (`addition`) that accurately represents its purpose.\n",
    "\n",
    "- We've removed the commented-out `print` statement to keep the function focused on its primary task of addition.\n",
    "\n",
    "![](https://i.kym-cdn.com/entries/icons/facebook/000/006/077/so_good.jpg)"
   ]
  },
  {
   "cell_type": "markdown",
   "id": "f2e75efb",
   "metadata": {},
   "source": [
    "### name\n",
    "\n",
    "The name statement of a function in Python is a crucial aspect of code readability and understanding. Choosing descriptive and meaningful names for your functions enhances the clarity of your code, making it easier for both you and others to comprehend its purpose and functionality. **Example**:"
   ]
  },
  {
   "cell_type": "code",
   "execution_count": null,
   "id": "f654d98a",
   "metadata": {},
   "outputs": [],
   "source": [
    "def adder ():\n",
    "    return "
   ]
  },
  {
   "cell_type": "markdown",
   "id": "7f5f9741",
   "metadata": {},
   "source": [
    "Adder of what? Maybe, if we are more clear..."
   ]
  },
  {
   "cell_type": "code",
   "execution_count": null,
   "id": "2376e1bb",
   "metadata": {},
   "outputs": [],
   "source": [
    "def number_adder ():\n",
    "    return "
   ]
  },
  {
   "cell_type": "markdown",
   "id": "67664511",
   "metadata": {},
   "source": [
    "Now, seems to be more clear, we can event be more descriptive (it helps others!)"
   ]
  },
  {
   "cell_type": "code",
   "execution_count": null,
   "id": "20fcf39a",
   "metadata": {},
   "outputs": [],
   "source": [
    "def number_adder_of_numbers():\n",
    "    \"\"\"\n",
    "    This function uses snake_case for its name, which is a convention in Python.\n",
    "    snake_case makes function names readable and easy to understand by separating words with underscores.\n",
    "    \"\"\"\n",
    "    return"
   ]
  },
  {
   "cell_type": "markdown",
   "id": "8fcf282e",
   "metadata": {},
   "source": [
    "On the other hand ..."
   ]
  },
  {
   "cell_type": "code",
   "execution_count": null,
   "id": "f5fcd56a",
   "metadata": {},
   "outputs": [],
   "source": [
    "# Not recommended -> JavaScript\n",
    "def CamelCase(): # CamelCase\n",
    "    \"\"\"\n",
    "    In Python, it's not recommended to use CamelCase for function names.\n",
    "    CamelCase is typically used in languages like JavaScript, whereas Python conventionally\n",
    "    uses snake_case for function names to maintain consistency and readability.\n",
    "    \"\"\"\n",
    "    return"
   ]
  },
  {
   "cell_type": "markdown",
   "id": "80ee81e1",
   "metadata": {},
   "source": [
    "### parameters (this is the \"variable\")\n",
    "\n",
    "Function parameters in Python are used to pass values or data to a function when it's called. These parameters act as placeholders that receive the input values, allowing functions to work with specific data without hardcoding it. Python functions can accept zero or more parameters, and each parameter can have a default value or be specified as required. Parameters make functions versatile and reusable, enabling them to perform different actions based on the provided input.\n",
    "\n",
    "In Python, parameters are defined within the parentheses () when declaring a function, and their names serve as variables inside the function's code block. Let's explore how to work with function parameters in Python."
   ]
  },
  {
   "cell_type": "markdown",
   "id": "5ddcf19e",
   "metadata": {},
   "source": [
    "`()`"
   ]
  },
  {
   "cell_type": "code",
   "execution_count": null,
   "id": "94c35a70",
   "metadata": {},
   "outputs": [],
   "source": [
    "def greetings ():\n",
    "    return \"Hello!\""
   ]
  },
  {
   "cell_type": "code",
   "execution_count": null,
   "id": "4ef85cdd",
   "metadata": {},
   "outputs": [],
   "source": [
    "greetings()"
   ]
  },
  {
   "cell_type": "markdown",
   "id": "93588783",
   "metadata": {},
   "source": [
    "Now, let's define to params `(param_1, param_2)`."
   ]
  },
  {
   "cell_type": "code",
   "execution_count": null,
   "id": "0b1e2193",
   "metadata": {},
   "outputs": [],
   "source": [
    "def greetings (other_person, myself):\n",
    "    return f\"Hello {other_person}! My name is {myself}\""
   ]
  },
  {
   "cell_type": "code",
   "execution_count": null,
   "id": "33530bc7",
   "metadata": {},
   "outputs": [],
   "source": [
    "# This is how I like it!\n",
    "def greetings(other_person: str, myself: str) -> str:\n",
    "    \"\"\"\n",
    "    This function greets another person and introduces itself.\n",
    "\n",
    "    Args:\n",
    "        other_person (str): The name of the other person.\n",
    "        myself (str): The name of the person introducing themselves.\n",
    "\n",
    "    Returns:\n",
    "        str: A greeting message.\n",
    "\n",
    "    Example:\n",
    "        >>> greetings(\"Alice\", \"Bob\")\n",
    "        'Hello Alice! My name is Bob'\n",
    "    \"\"\"\n",
    "    return f\"Hello {other_person}! My name is {myself}\""
   ]
  },
  {
   "cell_type": "markdown",
   "id": "5308ad65",
   "metadata": {},
   "source": [
    "### arguments (this is the content)\n",
    "\n",
    "In Python, function arguments are the values that we pass to a function when calling it. These arguments are essential for the function to perform its task. Python provides flexibility in how we can work with function arguments, allowing us to pass values in various ways, including positional arguments, keyword arguments, default values, and more. Understanding how to work with function arguments is crucial for creating versatile and reusable functions.\n"
   ]
  },
  {
   "cell_type": "code",
   "execution_count": null,
   "id": "75b18d78",
   "metadata": {},
   "outputs": [],
   "source": [
    "def greetings (other_person, myself):\n",
    "    return f\"Hello {other_person}! My name is {myself}\""
   ]
  },
  {
   "cell_type": "code",
   "execution_count": null,
   "id": "7f6cf64d",
   "metadata": {},
   "outputs": [],
   "source": [
    "greetings(\"Santi\", \"Clara\")"
   ]
  },
  {
   "cell_type": "code",
   "execution_count": null,
   "id": "3864fecc",
   "metadata": {},
   "outputs": [],
   "source": [
    "greetings(\"Laura\", \"Albert\", \"Santi\")"
   ]
  },
  {
   "cell_type": "markdown",
   "id": "9791b430",
   "metadata": {},
   "source": [
    "Recap:\n",
    "\n",
    "- **Parameters**: These are formal placeholders defined in the function declaration. They serve as symbolic names for the values that a function expects to receive and utilize within its body. Parameters are like variables waiting to be filled with real data.\n",
    "\n",
    "- **Arguments**: When we call a function, we provide actual data or values called arguments. These arguments are listed within parentheses after the function name during the function call. When the function is executed, these arguments are assigned to the corresponding parameters within the function's body.\n",
    "\n",
    "To illustrate, think of parameters as \"imaginary\" variables in the function definition—they have names but no values until you provide the arguments. On the other hand, arguments are the tangible, real data that you supply when invoking the function. They fill in the placeholders defined by the parameters.\n",
    "\n",
    "Understanding the distinction between parameters and arguments is fundamental when working with functions in programming."
   ]
  },
  {
   "cell_type": "markdown",
   "id": "ade26130",
   "metadata": {},
   "source": [
    "#### Paramenters with default values\n",
    "\n",
    "\n",
    "In Python, functions can have parameters with default values. These default parameters provide a way to define a value that will be used if the corresponding argument is not provided when calling the function. This feature allows you to make certain function arguments optional, enhancing the flexibility and usability of your functions. Default parameters are particularly useful when you want to provide sensible or common default values while still allowing users to customize them when needed.\n",
    "\n",
    "`(param_1, param_default = defaultvalue)` "
   ]
  },
  {
   "cell_type": "markdown",
   "id": "62729a1e",
   "metadata": {},
   "source": [
    "1. Let's come back to this example: `greetings_default(myself, someone_else, language=\"en\")`"
   ]
  },
  {
   "cell_type": "code",
   "execution_count": null,
   "id": "6ebd39c0",
   "metadata": {},
   "outputs": [],
   "source": [
    "def greetings_default(myself, someone_else, language=\"en\"):\n",
    "    if language == \"en\":\n",
    "        return f\"Hello {someone_else}! I'm {myself}\"\n",
    "    else:\n",
    "        return f\"Hola! {someone_else}, soy {myself}\""
   ]
  },
  {
   "cell_type": "code",
   "execution_count": null,
   "id": "703f8028",
   "metadata": {},
   "outputs": [],
   "source": [
    "def greetings_default(myself: str, someone_else: str, language: str = \"en\") -> str:\n",
    "    \"\"\"\n",
    "    Greets someone in English or Spanish.\n",
    "\n",
    "    Args:\n",
    "        myself (str): The name of the person greeting.\n",
    "        someone_else (str): The name of the person being greeted.\n",
    "        language (str, optional): The language of the greeting (\"en\" for English, \"es\" for Spanish).\n",
    "            Defaults to \"en\".\n",
    "\n",
    "    Returns:\n",
    "        str: A greeting message.\n",
    "\n",
    "    Example:\n",
    "        >>> greetings_default(\"Alice\", \"Bob\")\n",
    "        'Hello Bob! I'm Alice'\n",
    "\n",
    "        >>> greetings_default(\"Carlos\", \"Ana\", \"es\")\n",
    "        'Hola! Ana, soy Carlos'\n",
    "    \"\"\"\n",
    "    if language == \"en\":\n",
    "        return f\"Hello {someone_else}! I'm {myself}\"\n",
    "    else:\n",
    "        return f\"Hola! {someone_else}, soy {myself}\"\n"
   ]
  },
  {
   "cell_type": "markdown",
   "id": "401f6a19",
   "metadata": {},
   "source": [
    "Let's test it:"
   ]
  },
  {
   "cell_type": "code",
   "execution_count": null,
   "id": "6b6035a9",
   "metadata": {},
   "outputs": [],
   "source": [
    "greetings_default(\"Alfons\", \"Santi\", language=\"en\")"
   ]
  },
  {
   "cell_type": "code",
   "execution_count": null,
   "id": "295c16f5",
   "metadata": {},
   "outputs": [],
   "source": [
    "greetings_default(\"Alfons\", \"Santi\")"
   ]
  },
  {
   "cell_type": "markdown",
   "id": "fc5822af",
   "metadata": {},
   "source": [
    "what if..."
   ]
  },
  {
   "cell_type": "code",
   "execution_count": null,
   "id": "c475b080",
   "metadata": {},
   "outputs": [],
   "source": [
    "greetings_default(\"Alfons\", \"Santi\", \"es\")"
   ]
  },
  {
   "cell_type": "markdown",
   "id": "ee22d185",
   "metadata": {},
   "source": [
    "2. Another example `calculation (num_1, num_2, operation=\"+\")`"
   ]
  },
  {
   "cell_type": "code",
   "execution_count": null,
   "id": "5910d035",
   "metadata": {},
   "outputs": [],
   "source": [
    "# default arguments\n",
    "\n",
    "# Operation\n",
    "    # By default: add two numbers\n",
    "    # Multiply or divide two numbers"
   ]
  },
  {
   "cell_type": "code",
   "execution_count": null,
   "id": "8071738a",
   "metadata": {},
   "outputs": [],
   "source": [
    "def calculation (num1, num2, operation=\"+\"):\n",
    "    #  add two numbers\n",
    "    if operation == \"+\":\n",
    "        return num1 + num2\n",
    "    \n",
    "    # multiply\n",
    "    elif operation == \"*\":\n",
    "        return num1 * num2\n",
    "    \n",
    "    # divide: \"/\"\n",
    "    elif operation == \"/\":\n",
    "        return num1 / num2\n",
    "    \n",
    "    else:\n",
    "        return \"Watch out. This is not permitted\""
   ]
  },
  {
   "cell_type": "code",
   "execution_count": null,
   "id": "34184c02",
   "metadata": {},
   "outputs": [],
   "source": [
    "def calculation(num1: float, num2: float, operation: str = \"+\") -> float:\n",
    "    \"\"\"\n",
    "    Perform mathematical calculations on two numbers.\n",
    "\n",
    "    Args:\n",
    "        num1 (float): The first number.\n",
    "        num2 (float): The second number.\n",
    "        operation (str, optional): The mathematical operation to perform.\n",
    "            Can be \"+\", \"*\", \"/\", or any other string. Defaults to \"+\".\n",
    "\n",
    "    Returns:\n",
    "        float: The result of the mathematical operation.\n",
    "\n",
    "    Example:\n",
    "        >>> calculation(5, 3)\n",
    "        8.0\n",
    "\n",
    "        >>> calculation(5, 3, \"*\")\n",
    "        15.0\n",
    "\n",
    "        >>> calculation(5, 3, \"/\")\n",
    "        1.6666666666666667\n",
    "\n",
    "        >>> calculation(5, 3, \"-\")\n",
    "        'Watch out. This is not permitted'\n",
    "    \"\"\"\n",
    "    if operation == \"+\":\n",
    "        return num1 + num2\n",
    "    elif operation == \"*\":\n",
    "        return num1 * num2\n",
    "    elif operation == \"/\":\n",
    "        return num1 / num2\n",
    "    else:\n",
    "        return \"Watch out. This is not permitted\""
   ]
  },
  {
   "cell_type": "code",
   "execution_count": null,
   "id": "8923e42c",
   "metadata": {},
   "outputs": [],
   "source": [
    "calculation (10, 4, operation=\"+\")"
   ]
  },
  {
   "cell_type": "code",
   "execution_count": null,
   "id": "f6d59ff5",
   "metadata": {},
   "outputs": [],
   "source": [
    "calculation (10, 4) # defaults we don't need to call"
   ]
  },
  {
   "cell_type": "markdown",
   "id": "a58e3590",
   "metadata": {},
   "source": [
    "Let's try different operations:"
   ]
  },
  {
   "cell_type": "code",
   "execution_count": null,
   "id": "b8a91b6d",
   "metadata": {},
   "outputs": [],
   "source": [
    "calculation (10, 4, \"*\")"
   ]
  },
  {
   "cell_type": "code",
   "execution_count": null,
   "id": "faa5f70a",
   "metadata": {},
   "outputs": [],
   "source": [
    "calculation (10, 4, \"/\")"
   ]
  },
  {
   "cell_type": "code",
   "execution_count": null,
   "id": "c5b8ebbc",
   "metadata": {},
   "outputs": [],
   "source": [
    "calculation (10, 4, \"**\") # else"
   ]
  },
  {
   "cell_type": "code",
   "execution_count": null,
   "id": "b701d546",
   "metadata": {},
   "outputs": [],
   "source": [
    "calculation (10, 4, \"//\") # else"
   ]
  },
  {
   "cell_type": "markdown",
   "id": "f525a931",
   "metadata": {},
   "source": [
    "#### Positional arguments & keyword arguments\n",
    "\n",
    "In Python functions, you can define parameters that accept values either through their position in the function call (positional arguments) or by specifying the parameter names explicitly (keyword arguments). Here's how they work:\n",
    "\n",
    "`def addition (num_1, some_name=withavalue)`"
   ]
  },
  {
   "cell_type": "markdown",
   "id": "37fbea85",
   "metadata": {},
   "source": [
    "##### Positional Arguments\n",
    "\n",
    "Positional arguments are passed to a function based on their position in the function call. The order of the arguments matters, and they are assigned to the corresponding parameters in the function definition.\n",
    "\n",
    "Example:\n",
    "\n",
    "```python\n",
    "def addition(num_1, num_2):\n",
    "    return num_1 + num_2\n",
    "\n",
    "result = addition(5, 3)  # num_1 gets 5, num_2 gets 3\n",
    "```\n",
    "\n",
    "##### Keyword Arguments\n",
    "\n",
    "Keyword arguments are passed by specifying the parameter names along with their values in the function call. This allows you to pass arguments out of order or omit some arguments if their default values are defined in the function.\n",
    "\n",
    "```python\n",
    "def greeting(name, age=30):\n",
    "    return f\"Hello, {name}! You are {age} years old.\"\n",
    "\n",
    "message = greeting(name=\"Alice\", age=25)\n",
    "```"
   ]
  },
  {
   "cell_type": "markdown",
   "id": "b77b53ca",
   "metadata": {},
   "source": [
    "#### `*args`\n",
    "\n",
    "In Python, the special parameter `*args` in a function is used to optionally pass a variable number of **positional** arguments. It allows you to pass any number of arguments to the function, and they are collected into a tuple.\n",
    "\n",
    "Let's apply what we've learned so far by working through a practical example. We'll create a Python function that calculates the total cost of a shopping cart. This function will take item prices as positional arguments and apply a discount using a keyword argument.\n",
    "\n",
    "But first, let's check a regular expression:"
   ]
  },
  {
   "cell_type": "code",
   "execution_count": null,
   "id": "bc375e98",
   "metadata": {},
   "outputs": [],
   "source": [
    "def addition (a, b, c):\n",
    "    return a + b + c"
   ]
  },
  {
   "cell_type": "code",
   "execution_count": null,
   "id": "3020c336",
   "metadata": {},
   "outputs": [],
   "source": [
    "addition(10, 4, 10)"
   ]
  },
  {
   "cell_type": "code",
   "execution_count": null,
   "id": "43417ee1",
   "metadata": {},
   "outputs": [],
   "source": [
    "addition(1, 2)"
   ]
  },
  {
   "cell_type": "markdown",
   "id": "7fee6e45",
   "metadata": {},
   "source": [
    "What `*args` provide to us, and `unkown number of arguments`"
   ]
  },
  {
   "cell_type": "code",
   "execution_count": null,
   "id": "79a12629",
   "metadata": {},
   "outputs": [],
   "source": [
    "def calculate_total_cost(discount=0, *items):\n",
    "    \"\"\"\n",
    "    Calculate the total cost of items in a shopping cart, considering an optional discount.\n",
    "\n",
    "    Args:\n",
    "        discount (float): A discount percentage (0-100) to apply to the total cost. Defaults to 0.\n",
    "        *items (float): Positional arguments representing the prices of individual items.\n",
    "\n",
    "    Returns:\n",
    "        float: The total cost after applying the discount.\n",
    "\n",
    "    Example:\n",
    "        >>> calculate_total_cost(10, 20, 30, 40)  # Applying a 10% discount to items\n",
    "        108.0\n",
    "    \"\"\"\n",
    "    total_cost = sum(items)\n",
    "    discounted_cost = total_cost * (1 - discount / 100)\n",
    "    return discounted_cost"
   ]
  },
  {
   "cell_type": "markdown",
   "id": "e2ec9579",
   "metadata": {},
   "source": [
    "In this example:\n",
    "\n",
    "- We define a function `calculate_total_cost` that accepts an optional discount (a percentage) as a keyword argument and any number of item prices as positional arguments using `*items`.\n",
    "- We calculate the total cost of the items by summing up their prices.\n",
    "- We apply the discount if provided, and the final cost is returned."
   ]
  },
  {
   "cell_type": "code",
   "execution_count": null,
   "id": "05860f96",
   "metadata": {},
   "outputs": [],
   "source": [
    "# Calculate the total cost of items with a 10% discount\n",
    "total1 = calculate_total_cost(10, 20, 30, 40)\n",
    "print(\"Total Cost (10% Discount):\", total1)"
   ]
  },
  {
   "cell_type": "code",
   "execution_count": null,
   "id": "5974500a",
   "metadata": {},
   "outputs": [],
   "source": [
    "# Calculate the total cost of items with a 20% discount\n",
    "total2 = calculate_total_cost(20, 50, 75, 100, 500)\n",
    "print(\"Total Cost (20% Discount):\", total2)"
   ]
  },
  {
   "cell_type": "markdown",
   "id": "67833de1",
   "metadata": {},
   "source": [
    "#### `*kwargs`\n",
    "\n",
    "In Python, `**kwargs` is a special parameter in a function that allows you to pass a variable number of keyword arguments. These keyword arguments are passed as a dictionary, allowing you to handle named arguments flexibly within your function. This can be especially useful when you want to provide optional parameters or handle a variety of keyword arguments in a single function. Let's explore how `**kwargs` works and how to use it effectively.\n",
    "\n",
    "**Example 1:**"
   ]
  },
  {
   "cell_type": "code",
   "execution_count": null,
   "id": "2b500cfb",
   "metadata": {},
   "outputs": [],
   "source": [
    "from typing import Dict, Any\n",
    "\n",
    "# Example 1: Using **kwargs for Keyword Arguments\n",
    "\n",
    "def display_user_info(name: str, age: int, **kwargs: Any) -> str:\n",
    "    \"\"\"\n",
    "    Displays user information.\n",
    "\n",
    "    Args:\n",
    "        name (str): The user's name.\n",
    "        age (int): The user's age.\n",
    "        **kwargs: Additional keyword arguments for user information (e.g., city, country).\n",
    "\n",
    "    Returns:\n",
    "        str: A formatted user information string.\n",
    "\n",
    "    Example:\n",
    "        >>> display_user_info(\"Alice\", 30, city=\"New York\", country=\"USA\")\n",
    "        'Name: Alice, Age: 30, City: New York, Country: USA'\n",
    "    \"\"\"\n",
    "    user_info = {\n",
    "        \"Name\": name,\n",
    "        \"Age\": age,\n",
    "        **kwargs,\n",
    "    }\n",
    "    info_str = \", \".join(f\"{key}: {value}\" for key, value in user_info.items())\n",
    "    return info_str"
   ]
  },
  {
   "cell_type": "code",
   "execution_count": null,
   "id": "52e82ecf",
   "metadata": {},
   "outputs": [],
   "source": [
    "# Example usage:\n",
    "user_info = display_user_info(\"Alice\", 30, city=\"New York\", country=\"USA\")\n",
    "print(user_info)"
   ]
  },
  {
   "cell_type": "code",
   "execution_count": null,
   "id": "77ce5545",
   "metadata": {},
   "outputs": [],
   "source": [
    "# Example 2: Using *args and **kwargs Together\n",
    "\n",
    "# when you annotate **kwargs with Dict[str, Any], you are indicating that it should be a dictionary where \n",
    "# the keys are strings, and the values can be of any data type.\n",
    "\n",
    "def process_data(*args: int, **kwargs: Dict[str, Any]) -> int:\n",
    "    \"\"\"\n",
    "    Processes data by performing operations on positional arguments and using keyword arguments.\n",
    "\n",
    "    Args:\n",
    "        *args (int): Variable number of integer values for processing.\n",
    "        **kwargs: Keyword arguments to specify the operation ('add' or 'multiply').\n",
    "\n",
    "    Returns:\n",
    "        int: The result of the data processing.\n",
    "\n",
    "    Example:\n",
    "        >>> process_data(2, 3, 4, operation='add')\n",
    "        9\n",
    "        >>> process_data(2, 3, 4, operation='multiply')\n",
    "        24\n",
    "    \"\"\"\n",
    "    # The first argument is the key we want to retrieve from the dictionary ('operation' in this case).\n",
    "    # The second argument is a default value that will be returned if the key is not found in the dictionary \n",
    "    # ('add' in this case).\n",
    "    operation = kwargs.get('operation', 'add')\n",
    "    \n",
    "    if operation == 'add':\n",
    "        result = sum(args)\n",
    "    elif operation == 'multiply':\n",
    "        result = 1\n",
    "        for value in args:\n",
    "            result *= value\n",
    "    else:\n",
    "        raise ValueError(\"Invalid operation specified.\")\n",
    "    \n",
    "    return result"
   ]
  },
  {
   "cell_type": "code",
   "execution_count": null,
   "id": "73533b82",
   "metadata": {},
   "outputs": [],
   "source": [
    "result1 = process_data(2, 3, 4, operation='add')\n",
    "result2 = process_data(2, 3, 4, operation='multiply')\n",
    "print(result1)\n",
    "print(result2)"
   ]
  },
  {
   "cell_type": "markdown",
   "id": "1de2cfa1",
   "metadata": {},
   "source": [
    "**WHERE DO YOU THINK args and kwargs is VERY used**?"
   ]
  },
  {
   "cell_type": "markdown",
   "id": "8821d732",
   "metadata": {},
   "source": [
    "#### Order\n",
    "\n",
    "In Python, `**kwargs` is a commonly used name for the parameter that collects keyword arguments in a function. While you can technically use a different name for this parameter (e.g., `**custom_args`), it is a widely accepted convention to use `**kwargs` to make your code more readable and maintainable. Using the standard `**kwargs` name helps other Python developers understand your code and follow Python conventions.\n",
    "\n",
    "`def example(arg1, arg2, *args,**kwargs)`"
   ]
  },
  {
   "cell_type": "code",
   "execution_count": null,
   "id": "63a80e56",
   "metadata": {},
   "outputs": [],
   "source": [
    "def a_function (posarg1, posarg2, *args, **kwargs):\n",
    "    pass"
   ]
  },
  {
   "cell_type": "markdown",
   "id": "7cc86acc",
   "metadata": {},
   "source": [
    "Remember, `**kwargs` is always represented as a dictionary in Python. It is a special syntax that allows you to pass a variable number of keyword arguments to a function, and those keyword arguments are collected and stored as key-value pairs in a dictionary within the function."
   ]
  },
  {
   "cell_type": "markdown",
   "id": "6344b651",
   "metadata": {},
   "source": [
    "### Exercise 2"
   ]
  },
  {
   "cell_type": "markdown",
   "id": "e84ee79f",
   "metadata": {},
   "source": [
    "**Sales Report Generator**\n",
    "\n",
    "**Business Scenario:**\n",
    "Imagine you are working for a retail company that sells electronic gadgets. Your task is to create a Python program that generates sales reports based on various parameters. You need to define a function that takes multiple arguments, including optional ones, and returns a summary of sales data.\n",
    "\n",
    "**Instructions:**\n",
    "\n",
    "1. Define a function called `generate_sales_report` with the following parameters:\n",
    "   - `store_name` (str): The name of the retail store.\n",
    "   - `date` (str): The date for the sales report.\n",
    "   - `sales_data` (list of tuples): A list of sales data. Each tuple in the list represents the sale of an electronic gadget and contains the following elements:\n",
    "     - Item name (str)\n",
    "     - Unit price (float)\n",
    "     - Quantity sold (int)\n",
    "\n",
    "2. Use **data type annotations** to specify the expected data types for each parameter.\n",
    "\n",
    "3. Include a **docstring** that explains what the function does and describes each parameter.\n",
    "\n",
    "4. Implement the function to calculate and return the following information:\n",
    "   - The **total sales amount** for all items.\n",
    "   - The **average unit price** of the sold items.\n",
    "   - The **total number of items** sold.\n",
    "   - The **most expensive item** sold (item name and price).\n",
    "   - The **least expensive item** sold (item name and price).\n",
    "\n",
    "5. Use the `*args` parameter to allow for a variable number of sales data tuples. The function should be able to handle any number of sales data tuples.\n",
    "\n",
    "6. Use the `**kwargs` parameter to allow for optional keyword arguments. Include the following optional keyword arguments:\n",
    "   - `include_tax` (bool, default False): If True, calculate the total sales amount including a 10% sales tax.\n",
    "   - `currency` (str, default 'USD'): The currency symbol to use in the report.\n",
    "\n",
    "7. Create an example sales report using the `generate_sales_report` function. Include a mix of different gadgets, quantities, and prices in the sales data.\n",
    "\n",
    "8. Print the sales report, including all the calculated information, in a user-friendly format.\n",
    "\n",
    "9. Test the function with different sets of sales data and optional keyword arguments to ensure it works as expected.\n",
    "\n",
    "**Note:** You can assume that the sales data will always be provided as a list of tuples, but the number of sales data tuples can vary.\n",
    "\n",
    "This exercise will help you practice defining functions with various parameters, handling optional keyword arguments, and producing informative reports."
   ]
  },
  {
   "cell_type": "code",
   "execution_count": null,
   "id": "804008c2",
   "metadata": {},
   "outputs": [],
   "source": [
    "from typing import List, Tuple\n",
    "\n",
    "def generate_sales_report()  :\n",
    "    \"\"\"\n",
    "       COMMENT HERE\n",
    "    \"\"\"\n",
    "    # Your code here\n",
    "\n",
    "    return report\n",
    "\n",
    "# Example usage:\n",
    "sales_report = generate_sales_report(\"Gadget Store\", \"2023-09-15\", (\"Phone\", 499.99, 10), (\"Tablet\", 299.99, 5), include_tax=True, currency='EUR')\n",
    "print(sales_report)"
   ]
  },
  {
   "cell_type": "markdown",
   "id": "5a76c906",
   "metadata": {},
   "source": [
    "### return\n",
    "\n",
    "- The `return` statement is used to give something back from a function.\n",
    "- A function can have more than one `return` statement, but only one of them is executed when the function is called.\n",
    "- Importantly, after a function returns something, the execution of the function stops, and control is handed back to the caller.\n",
    "\n",
    "\n"
   ]
  },
  {
   "cell_type": "markdown",
   "id": "6430ebf3",
   "metadata": {},
   "source": [
    "#### `function with return`:\n",
    "\n",
    "In Python, functions often include the `return` statement to provide a result or value back to the code that called the function. Here's an example of a simple function with a `return` statement:"
   ]
  },
  {
   "cell_type": "code",
   "execution_count": null,
   "id": "0c028389",
   "metadata": {},
   "outputs": [],
   "source": [
    "def addition_return (a, b):\n",
    "    return a + b"
   ]
  },
  {
   "cell_type": "code",
   "execution_count": null,
   "id": "0d7be21c",
   "metadata": {},
   "outputs": [],
   "source": [
    "addition_return (2, 3)"
   ]
  },
  {
   "cell_type": "markdown",
   "id": "0b503b81",
   "metadata": {},
   "source": [
    "In this example:\n",
    "\n",
    "- The function `addition_return` takes two arguments, `a` and `b`.\n",
    "- It uses the `return` statement to calculate the sum of `a` and `b`.\n",
    "- When you call this function with `addition_return(2, 3)`, it returns `5`, which is the result of adding `2` and `3`."
   ]
  },
  {
   "cell_type": "markdown",
   "id": "b61cca6c",
   "metadata": {},
   "source": [
    "#### `function with no return`: NoneType\n",
    "\n",
    "In Python, not all functions are designed to return a value. Some functions are intended to perform actions or operations without producing a specific result that needs to be captured. These functions are referred to as having a return type of `NoneType`, which is represented by the keyword `None`. When a function does not include a `return` statement or includes a `return` statement without an expression, it implicitly returns `None`.\n",
    "\n",
    "Let's explore functions with no return value using an example:"
   ]
  },
  {
   "cell_type": "code",
   "execution_count": null,
   "id": "03cf5bb8",
   "metadata": {},
   "outputs": [],
   "source": [
    "def addition_print(a, b):\n",
    "    print(a + b)"
   ]
  },
  {
   "cell_type": "code",
   "execution_count": null,
   "id": "2ec08a06",
   "metadata": {},
   "outputs": [],
   "source": [
    "addition_print(2, 3)"
   ]
  },
  {
   "cell_type": "markdown",
   "id": "20c9945b",
   "metadata": {},
   "source": [
    "In this example, the `addition_print` function takes two arguments, `a` and `b`, and performs the addition of these values. However, instead of using a return statement to provide a result, it uses the print function to display the result in the console.\n",
    "\n",
    "When you call `addition_print(2, 3)`, it performs the addition `2 + 3`, which results in `5`. However, there's no explicit return statement, so the function implicitly returns `None`. Therefore, if you were to assign the result of `addition_print(2, 3)` to a variable, that variable would hold the value `None`.\n",
    "\n",
    "Functions like these are commonly used when you want to perform some action or side effect, such as printing output, without returning a specific value.**But, what are the types?**\n"
   ]
  },
  {
   "cell_type": "code",
   "execution_count": null,
   "id": "f3b3d067",
   "metadata": {},
   "outputs": [],
   "source": [
    "type(addition_return (2, 3))"
   ]
  },
  {
   "cell_type": "code",
   "execution_count": null,
   "id": "99757fb5",
   "metadata": {},
   "outputs": [],
   "source": [
    "type(addition_print (2, 3))"
   ]
  },
  {
   "cell_type": "markdown",
   "id": "3f0b4787",
   "metadata": {},
   "source": [
    "#### `accessing the value of the result of the function`: print & return\n",
    "\n",
    "In Python, functions play a crucial role in performing various tasks and calculations. When you call a function, it can provide you with a result, which you might want to access or use in your program. This section explores two common ways to access the value of the result of a function: using `print` statements and utilizing the `return` statement.\n",
    "\n",
    "Let's delve into these two approaches to understand how they allow us to work with the results produced by functions. **Let's start with return:**\n"
   ]
  },
  {
   "cell_type": "code",
   "execution_count": null,
   "id": "fcb32bfa",
   "metadata": {},
   "outputs": [],
   "source": [
    "def addition (a, b):\n",
    "    return a + b"
   ]
  },
  {
   "cell_type": "code",
   "execution_count": null,
   "id": "b5203222",
   "metadata": {},
   "outputs": [],
   "source": [
    "addition (3, 5)"
   ]
  },
  {
   "cell_type": "code",
   "execution_count": null,
   "id": "412e2160",
   "metadata": {},
   "outputs": [],
   "source": [
    "result = addition (3, 5)"
   ]
  },
  {
   "cell_type": "code",
   "execution_count": null,
   "id": "be03cb6e",
   "metadata": {},
   "outputs": [],
   "source": [
    "result * 100"
   ]
  },
  {
   "cell_type": "code",
   "execution_count": null,
   "id": "ae49f5bb",
   "metadata": {},
   "outputs": [],
   "source": [
    "def greeting (name):\n",
    "    return f\"Hello! My name is {name}\"\n",
    "\n",
    "laura_says = greeting(\"Laura\")\n",
    "laura_says.upper()"
   ]
  },
  {
   "cell_type": "markdown",
   "id": "2ea59d04",
   "metadata": {},
   "source": [
    "**Now, with print:**"
   ]
  },
  {
   "cell_type": "code",
   "execution_count": null,
   "id": "dc72ddbd",
   "metadata": {},
   "outputs": [],
   "source": [
    "def greeting (name):\n",
    "    print(f\"Hello! My name is {name}\")"
   ]
  },
  {
   "cell_type": "code",
   "execution_count": null,
   "id": "258cf7d5",
   "metadata": {},
   "outputs": [],
   "source": [
    "laura_says = greeting(\"Laura\")"
   ]
  },
  {
   "cell_type": "code",
   "execution_count": null,
   "id": "34617699",
   "metadata": {},
   "outputs": [],
   "source": [
    "laura_says.upper()"
   ]
  },
  {
   "cell_type": "markdown",
   "id": "309bb330",
   "metadata": {},
   "source": [
    "#### `more than one return`\n",
    "\n",
    "In Python, functions are versatile tools that can perform multiple checks or tasks and provide results based on various conditions. This section explores the concept of having more than one return statement within a function.\n",
    "\n",
    "Consider the example function `password_validator`. It checks two conditions: the length of a password and the presence of a dash character (\"-\"). Depending on these conditions, the function may return different messages.\n",
    "\n",
    "Let's examine how functions can have multiple return points to provide different outcomes based on specific criteria.\n"
   ]
  },
  {
   "cell_type": "code",
   "execution_count": null,
   "id": "479b49f3",
   "metadata": {},
   "outputs": [],
   "source": [
    "def password_validator (password):\n",
    "    \n",
    "    if len(password) > 8:\n",
    "        print(\"long\")\n",
    "        \n",
    "    if \"-\" in password:\n",
    "        print(\"there's a dash\")\n"
   ]
  },
  {
   "cell_type": "code",
   "execution_count": null,
   "id": "fd673246",
   "metadata": {},
   "outputs": [],
   "source": [
    "password_validator (\"test-8characters\")"
   ]
  },
  {
   "cell_type": "markdown",
   "id": "a49885c6",
   "metadata": {},
   "source": [
    "Another example:"
   ]
  },
  {
   "cell_type": "code",
   "execution_count": null,
   "id": "25678952",
   "metadata": {},
   "outputs": [],
   "source": [
    "def password_validator (password):\n",
    "    \n",
    "    if len(password) > 8:\n",
    "        print(\"BEFORE RETURN\")\n",
    "        return \"ok\"\n",
    "        print(\"AFTER RETURN\")\n",
    "        \n",
    "    if \"-\" in password:\n",
    "        print(\"BEFORE RETURN\")\n",
    "        return \"ok2\"\n",
    "        print(\"AFTER RETURN\")"
   ]
  },
  {
   "cell_type": "markdown",
   "id": "f78d8de1",
   "metadata": {},
   "source": [
    "password_validator (\"test-8characters\")"
   ]
  },
  {
   "cell_type": "markdown",
   "id": "65bd3a59",
   "metadata": {},
   "source": [
    "## The Importance of Code Readability\n",
    "\n",
    "1. **Written Once, Read Many Times**: Code is typically written once but read and maintained many times throughout its lifespan. Therefore, it's crucial to make your code easy to understand.\n",
    "\n",
    "2. **Understanding Your Work**: When you write code, think about your colleagues and future developers who may need to work with it. Clear and self-explanatory code helps them understand your intentions.\n",
    "\n",
    "3. **Documentation with Docstrings**: One way to improve code clarity is by using docstrings. A docstring is a multi-line comment that describes a function, class, or module's purpose, parameters, and return values."
   ]
  },
  {
   "cell_type": "markdown",
   "id": "d4a7b05b",
   "metadata": {},
   "source": [
    "### Docstrings: documentation strings\n",
    "\n",
    "In programming, writing code that is clear, concise, and well-documented is essential. Code isn't just for computers; it's also for humans who read, understand, and maintain it. The quality of your code can significantly impact your team's productivity and collaboration."
   ]
  },
  {
   "cell_type": "markdown",
   "id": "52873a46",
   "metadata": {},
   "source": [
    "![Onlygod](https://preview.redd.it/hwqj7yx9vm211.jpg?auto=webp&s=f04e3abb363dbe2f42c42770506bfe819a522048)"
   ]
  },
  {
   "cell_type": "markdown",
   "id": "fca4d156",
   "metadata": {},
   "source": [
    "### Example: The Cat Function\n",
    "\n",
    "In this example, we've defined a simple function called `cat`. This function returns the string \"meow.\" To make this code more comprehensible, we've added a docstring that explains what the `cat` function does."
   ]
  },
  {
   "cell_type": "code",
   "execution_count": 15,
   "id": "288ce2bd",
   "metadata": {},
   "outputs": [],
   "source": [
    "def cat():\n",
    "    \"\"\"\n",
    "    This function returns the sound of a cat, which is 'meow.'\n",
    "    \"\"\"\n",
    "    return \"meow\""
   ]
  },
  {
   "cell_type": "markdown",
   "id": "14e0777b",
   "metadata": {},
   "source": [
    "In this example, we have defined a cat function that returns meow. We have declared a docstring that explains what the function does. To get the docstring of a function, we need to display the doc attribute (print(cat. __ doc __))\n",
    "Photo reference, description and more info about docstring [here](https://techiestuff.netlify.app/blog/what-is-a-python-docstring/)"
   ]
  },
  {
   "cell_type": "code",
   "execution_count": 16,
   "id": "23dba97f",
   "metadata": {},
   "outputs": [
    {
     "data": {
      "text/plain": [
       "\"\\n    This function returns the sound of a cat, which is 'meow.'\\n    \""
      ]
     },
     "execution_count": 16,
     "metadata": {},
     "output_type": "execute_result"
    }
   ],
   "source": [
    "cat.__doc__"
   ]
  },
  {
   "cell_type": "code",
   "execution_count": 17,
   "id": "620ff812",
   "metadata": {},
   "outputs": [
    {
     "name": "stdout",
     "output_type": "stream",
     "text": [
      "Help on function cat in module __main__:\n",
      "\n",
      "cat()\n",
      "    This function returns the sound of a cat, which is 'meow.'\n",
      "\n"
     ]
    }
   ],
   "source": [
    "help(cat)"
   ]
  },
  {
   "cell_type": "markdown",
   "id": "64cd7628",
   "metadata": {},
   "source": [
    "Clean code standards for docstring:"
   ]
  },
  {
   "cell_type": "code",
   "execution_count": null,
   "id": "3f02a6d4",
   "metadata": {},
   "outputs": [],
   "source": [
    "\"\"\"\n",
    "Describes the function's purpose and usage.\n",
    "\n",
    "Parameters:\n",
    "    param_1 (data_type): Description of the first parameter.\n",
    "    param_2 (data_type): Description of the second parameter. (If applicable)\n",
    "    ...\n",
    "    param_n (data_type): Description of the nth parameter. (If applicable)\n",
    "    \n",
    "Arguments:\n",
    "    arg_1 (data_type): Description of the first argument. (If applicable)\n",
    "    arg_2 (data_type): Description of the second argument. (If applicable)\n",
    "    ...\n",
    "    arg_n (data_type): Description of the nth argument. (If applicable)\n",
    "\n",
    "Keyword Arguments:\n",
    "    kwarg_1 (data_type): Description of the first keyword argument. (If applicable)\n",
    "    kwarg_2 (data_type): Description of the second keyword argument. (If applicable)\n",
    "    ...\n",
    "    kwarg_n (data_type): Description of the nth keyword argument. (If applicable)\n",
    "\n",
    "Returns:\n",
    "    return_type: Description of the return value.\n",
    "\n",
    "Examples:\n",
    "    >>> function_name(arg_1, arg_2, kwarg_1=value)\n",
    "    Expected output or description of the result.\n",
    "    >>> another_function(arg)\n",
    "    Expected output or description of the result.\n",
    "\"\"\""
   ]
  },
  {
   "cell_type": "markdown",
   "id": "1bcd1e17",
   "metadata": {},
   "source": [
    "### source code\n",
    "\n",
    "In this section, we'll explore how to access and print the source code of a function using Python's `inspect` module. We'll learn how to retrieve the actual code that defines a function. This can be useful for understanding how a function is implemented or for debugging purposes.\n",
    "\n",
    "Let's dive into how you can access and display the source code of a function in Python."
   ]
  },
  {
   "cell_type": "code",
   "execution_count": 18,
   "id": "6a6334c9",
   "metadata": {},
   "outputs": [
    {
     "name": "stdout",
     "output_type": "stream",
     "text": [
      "def cat():\n",
      "    \"\"\"\n",
      "    This function returns the sound of a cat, which is 'meow.'\n",
      "    \"\"\"\n",
      "    return \"meow\"\n",
      "\n"
     ]
    }
   ],
   "source": [
    "import inspect\n",
    "print(inspect.getsource(cat))"
   ]
  },
  {
   "cell_type": "markdown",
   "id": "86c5ccda",
   "metadata": {
    "lang": "en"
   },
   "source": [
    "## Scope of functions\n",
    "\n",
    "In Python, the scope of a variable refers to the region of code where that variable can be accessed or modified. Understanding variable scope is crucial when working with functions, as it determines which variables a function can see and manipulate.\n",
    "\n",
    "There are two main directions of variable scope in Python: \"outer to inner\" and \"inner to outer.\" In the \"outer to inner\" direction, variables defined outside a function are accessible within the function. In the \"inner to outer\" direction, variables defined within a function are not accessible outside that function.\n",
    "\n",
    "We'll explore both of these scenarios and discuss how variable scope affects function behavior."
   ]
  },
  {
   "cell_type": "markdown",
   "id": "a353567d",
   "metadata": {},
   "source": [
    "### `outer to inner`"
   ]
  },
  {
   "cell_type": "code",
   "execution_count": 19,
   "id": "3ac13319",
   "metadata": {},
   "outputs": [
    {
     "data": {
      "text/plain": [
       "20"
      ]
     },
     "execution_count": 19,
     "metadata": {},
     "output_type": "execute_result"
    }
   ],
   "source": [
    "def addition (a, b):\n",
    "    return a + b\n",
    "\n",
    "a = 10\n",
    "\n",
    "addition(a, 10)"
   ]
  },
  {
   "cell_type": "code",
   "execution_count": 20,
   "id": "7264106c",
   "metadata": {},
   "outputs": [
    {
     "name": "stdout",
     "output_type": "stream",
     "text": [
      "10\n"
     ]
    }
   ],
   "source": [
    "print(a)"
   ]
  },
  {
   "cell_type": "markdown",
   "id": "c26ce173",
   "metadata": {},
   "source": [
    "### `inner to outter` "
   ]
  },
  {
   "cell_type": "code",
   "execution_count": 22,
   "id": "c481462a",
   "metadata": {},
   "outputs": [],
   "source": [
    "def addition (a, b):\n",
    "    d = a + b\n",
    "    return\n",
    "\n",
    "addition(10, 10)"
   ]
  },
  {
   "cell_type": "code",
   "execution_count": 23,
   "id": "9543059d",
   "metadata": {},
   "outputs": [
    {
     "ename": "NameError",
     "evalue": "name 'd' is not defined",
     "output_type": "error",
     "traceback": [
      "\u001b[0;31m---------------------------------------------------------------------------\u001b[0m",
      "\u001b[0;31mNameError\u001b[0m                                 Traceback (most recent call last)",
      "Cell \u001b[0;32mIn[23], line 1\u001b[0m\n\u001b[0;32m----> 1\u001b[0m \u001b[38;5;28mprint\u001b[39m(\u001b[43md\u001b[49m)\n",
      "\u001b[0;31mNameError\u001b[0m: name 'd' is not defined"
     ]
    }
   ],
   "source": [
    "print(d)"
   ]
  },
  {
   "cell_type": "markdown",
   "id": "80ccf4fe",
   "metadata": {},
   "source": [
    "[Extra: global variables](https://www.w3schools.com/python/python_variables_global.asp)"
   ]
  },
  {
   "cell_type": "markdown",
   "id": "28a2d72b",
   "metadata": {
    "lang": "en"
   },
   "source": [
    "## Lambda\n",
    "Lambda functions, also known as anonymous functions, are a concise way to define small, simple functions in Python. Unlike regular functions defined using the `def` keyword, lambda functions are anonymous and often used for short, one-off operations."
   ]
  },
  {
   "cell_type": "markdown",
   "id": "e2a8db48",
   "metadata": {},
   "source": [
    "### Syntax of a Lambda Function"
   ]
  },
  {
   "cell_type": "markdown",
   "id": "89d5454c",
   "metadata": {},
   "source": [
    "\n",
    "A lambda function has the following syntax:\n",
    "\n",
    "```python\n",
    "lambda <param list>:<return expression>\n",
    "```\n",
    "In this syntax, `<param list>` represents the list of parameters the lambda function takes, and `<return expression>` is the expression that defines what the lambda function returns. Lambda functions are particularly useful when you need to pass a simple function as an argument to another function or use them in situations where a full function definition is unnecessary.\n",
    "\n",
    "FYI: João hates Lambdas"
   ]
  },
  {
   "cell_type": "code",
   "execution_count": 24,
   "id": "70f92966",
   "metadata": {},
   "outputs": [],
   "source": [
    "# Example 1: Lambda function that adds two numbers\n",
    "add = lambda x, y: x + y\n",
    "result = add(3, 5)  # Result will be 8"
   ]
  },
  {
   "cell_type": "code",
   "execution_count": 25,
   "id": "bb727a71",
   "metadata": {},
   "outputs": [],
   "source": [
    "# Example 2: Lambda function that calculates the square of a number\n",
    "square = lambda x: x ** 2\n",
    "result = square(4)  # Result will be 16"
   ]
  },
  {
   "cell_type": "code",
   "execution_count": 26,
   "id": "b9db6d51",
   "metadata": {},
   "outputs": [],
   "source": [
    "# Example 3: Lambda function to check if a number is even\n",
    "is_even = lambda x: x % 2 == 0\n",
    "result = is_even(6)  # Result will be True"
   ]
  },
  {
   "cell_type": "code",
   "execution_count": 27,
   "id": "df627f42",
   "metadata": {},
   "outputs": [],
   "source": [
    "# Example 4: Lambda function to extract the last character of a string\n",
    "get_last_char = lambda s: s[-1]\n",
    "result = get_last_char(\"Hello\")  # Result will be \"o\""
   ]
  },
  {
   "cell_type": "markdown",
   "id": "a5f8033b",
   "metadata": {},
   "source": [
    "These lambda functions are concise and can be used in situations where you need a quick, short function to perform a specific task. Lambda functions are often used with functions like `map()`, `filter()`, and `sorted()` to define custom behavior for sorting or processing data.\n",
    "\n",
    "\n"
   ]
  },
  {
   "cell_type": "markdown",
   "id": "5add6142",
   "metadata": {},
   "source": [
    "### Lambda challenge\n",
    "\n",
    "Convert this regular functions into lambda. **Challenge 1:**"
   ]
  },
  {
   "cell_type": "code",
   "execution_count": null,
   "id": "dd5493ea",
   "metadata": {},
   "outputs": [],
   "source": [
    "def add(a, b):\n",
    "    return a + b"
   ]
  },
  {
   "cell_type": "code",
   "execution_count": 29,
   "id": "6237abf3",
   "metadata": {},
   "outputs": [],
   "source": [
    "# your code here"
   ]
  },
  {
   "cell_type": "markdown",
   "id": "8c07de69",
   "metadata": {},
   "source": [
    "**Challenge 2:**"
   ]
  },
  {
   "cell_type": "code",
   "execution_count": null,
   "id": "9bfaf3b5",
   "metadata": {},
   "outputs": [],
   "source": [
    "def square(x):\n",
    "    return x ** 2"
   ]
  },
  {
   "cell_type": "code",
   "execution_count": null,
   "id": "30643e09",
   "metadata": {},
   "outputs": [],
   "source": [
    "# your code here"
   ]
  },
  {
   "cell_type": "markdown",
   "id": "71527046",
   "metadata": {},
   "source": [
    "**Challenge 3:**"
   ]
  },
  {
   "cell_type": "code",
   "execution_count": null,
   "id": "cd9679c2",
   "metadata": {},
   "outputs": [],
   "source": [
    "def is_even(num):\n",
    "    return num % 2 == 0"
   ]
  },
  {
   "cell_type": "code",
   "execution_count": null,
   "id": "c3fce30a",
   "metadata": {},
   "outputs": [],
   "source": [
    "# your code here"
   ]
  },
  {
   "cell_type": "markdown",
   "id": "6f67a9bf",
   "metadata": {},
   "source": [
    "### `lambda`  as the option of some other built-in functions\n",
    "\n",
    "In addition to using `lambda` functions in standalone expressions, they can also be employed as arguments in calls to other functions. This capability allows for custom behavior when working with various built-in functions, such as `sorted()`, `filter()`, `map()`, and more.\n",
    "\n",
    "One common use case is providing a `lambda` function as an argument to the key parameter in sorting functions like `sorted()` and `list.sort()`. This enables you to define custom sorting criteria for your data.\n",
    "\n",
    "Here's a general syntax example of using `lambda` functions as sorting keys:"
   ]
  },
  {
   "cell_type": "code",
   "execution_count": null,
   "id": "31abf911",
   "metadata": {},
   "outputs": [],
   "source": [
    "sorted_list = sorted(iterable, key=lambda item: custom_sort_logic(item))"
   ]
  },
  {
   "cell_type": "markdown",
   "id": "37d4bc2b",
   "metadata": {},
   "source": [
    "In this syntax:\n",
    "\n",
    "- `iterable` is the collection of items you want to sort.\n",
    "- `custom_sort_logic(item)` is the lambda function that defines how items should be compared and sorted based on some custom logic.\n",
    "\n",
    "Let's take a look at an example to illustrate this concept further:"
   ]
  },
  {
   "cell_type": "code",
   "execution_count": null,
   "id": "e037ed5a",
   "metadata": {},
   "outputs": [],
   "source": [
    "students = [\n",
    "    {\"name\": \"Alice\", \"age\": 25},\n",
    "    {\"name\": \"Bob\", \"age\": 22},\n",
    "    {\"name\": \"Charlie\", \"age\": 28},\n",
    "]\n",
    "\n",
    "# Sort the students based on their ages using a lambda function\n",
    "sorted_students = sorted(students, key=lambda student: student[\"age\"])\n",
    "\n",
    "print(sorted_students)"
   ]
  },
  {
   "cell_type": "markdown",
   "id": "8463923f",
   "metadata": {},
   "source": [
    "In this example, we use a `lambda` function as the `key` argument in the `sorted()` function to sort the list of students based on their ages. The `lambda` function specifies that we want to sort the students by their **\"age\"** key.\n",
    "\n",
    "This flexibility of using `lambda` functions as arguments allows you to tailor the behavior of built-in functions to suit your specific requirements, making your code more expressive and adaptable."
   ]
  },
  {
   "cell_type": "markdown",
   "id": "51204969",
   "metadata": {},
   "source": [
    "## Functions: functions as return of another function\n",
    "\n",
    "In Python, functions are not limited to being just blocks of code that perform specific tasks; they can also be used as data. This means you can define functions inside other functions and even return functions from other functions.\n",
    "\n",
    "Functions that return other functions are known as higher-order functions. These higher-order functions allow you to create specialized functions on the fly, making your code more dynamic and adaptable. Here's how it works:\n",
    "\n",
    "1. A function can be defined within another function.\n",
    "2. The inner function can capture and remember the variables from its containing (outer) function. This concept is known as \"closure.\"\n",
    "3. The outer function can return the inner function as a result.\n",
    "\n",
    "This functionality enables you to customize the behavior of functions based on certain conditions or configurations, which can be extremely useful in various programming scenarios.\n",
    "\n",
    "Let's explore this concept further with some examples to see how functions can be returned from other functions.\n"
   ]
  },
  {
   "cell_type": "code",
   "execution_count": 30,
   "id": "8f32911f",
   "metadata": {},
   "outputs": [],
   "source": [
    "def greater_function (a, b):\n",
    "    if a > b:\n",
    "        return a\n",
    "    elif b > a:\n",
    "        return b"
   ]
  },
  {
   "cell_type": "code",
   "execution_count": null,
   "id": "abb606b1",
   "metadata": {},
   "outputs": [],
   "source": [
    "greater_function (3, 10)"
   ]
  },
  {
   "cell_type": "code",
   "execution_count": null,
   "id": "f08c4f12",
   "metadata": {},
   "outputs": [],
   "source": [
    "def lesser_function (x, y):\n",
    "    if x > y:\n",
    "        return y\n",
    "    elif y > x:\n",
    "        return x"
   ]
  },
  {
   "cell_type": "code",
   "execution_count": null,
   "id": "ceb69a36",
   "metadata": {},
   "outputs": [],
   "source": [
    "lesser_function (3, 10)"
   ]
  },
  {
   "cell_type": "code",
   "execution_count": null,
   "id": "216673ca",
   "metadata": {},
   "outputs": [],
   "source": [
    "def comparison (type_of_comparison): # lesser, greater\n",
    "    if type_of_comparison == \"greater\":\n",
    "        return greater_function\n",
    "    \n",
    "    elif type_of_comparison == \"lesser\":\n",
    "        return lesser_function"
   ]
  },
  {
   "cell_type": "code",
   "execution_count": null,
   "id": "581ecfc7",
   "metadata": {},
   "outputs": [],
   "source": [
    "comparison(\"greater\")(3, 10)"
   ]
  },
  {
   "cell_type": "code",
   "execution_count": null,
   "id": "d53723db",
   "metadata": {},
   "outputs": [],
   "source": [
    "comparison(\"lesser\")(3, 10)"
   ]
  },
  {
   "cell_type": "markdown",
   "id": "709d11f3",
   "metadata": {},
   "source": [
    "In the given example:\n",
    "\n",
    "1. We have three functions: `greater_function`, `lesser_function`, and `comparison`.\n",
    "\n",
    "2. `greater_function` and `lesser_function` are responsible for comparing two values and returning the greater or lesser value, respectively.\n",
    "\n",
    "3. The `comparison` function takes a `type_of_comparison` argument, which can be either \"greater\" or \"lesser.\"\n",
    "\n",
    "4. Inside the `comparison` function, we use conditional statements to determine which function (`greater_function` or `lesser_function`) to return based on the `type_of_comparison`.\n",
    "\n",
    "5. When we call `comparison(\"greater\")`, it returns a reference to `greater_function` but does not execute it immediately.\n",
    "\n",
    "6. Now that we have a reference to `greater_function`, we can invoke it with specific arguments, such as `greater_function(3, 10)`.\n",
    "\n",
    "7. The call `comparison(\"greater\")(3, 10)` is equivalent to `greater_function(3, 10)`, where `greater_function` is executed with the arguments `3` and `10`.\n",
    "\n",
    "8. As a result, it returns the greater of the two numbers, which is `10`.\n",
    "\n",
    "This demonstrates the concept of returning functions as first-class objects in Python, allowing for dynamic selection and execution of functions based on conditions. Using lambda, inside a function:\n"
   ]
  },
  {
   "cell_type": "code",
   "execution_count": null,
   "id": "c4e20987",
   "metadata": {},
   "outputs": [],
   "source": [
    "def comparison (type_of_comparison): # lesser, greater\n",
    "    if type_of_comparison == \"greater\":\n",
    "        return greater_function\n",
    "    \n",
    "    elif type_of_comparison == \"lesser\":\n",
    "        return lambda x, y: x if x < y else y"
   ]
  },
  {
   "cell_type": "code",
   "execution_count": null,
   "id": "8a120314",
   "metadata": {},
   "outputs": [],
   "source": [
    "comparison(\"lesser\")(3, 10)"
   ]
  },
  {
   "cell_type": "markdown",
   "id": "f90508d9",
   "metadata": {
    "lang": "en"
   },
   "source": [
    "## Recursion\n",
    "It is called recursive call (or recursion), to those functions that in their algorithm, refer to itself.\n",
    "\n",
    "Recursive calls are usually very useful in very specific cases, but due to their great feasibility of falling into infinite iterations, adequate preventive measures should be taken and only used when strictly necessary and there is no viable alternative way to solve the problem. avoiding recursion.\n",
    "\n",
    "Python supports recursive calls, allowing a function to call itself, just as it does when calling another function."
   ]
  },
  {
   "attachments": {
    "image.png": {
     "image/png": "[encoded data removed]"
    }
   },
   "cell_type": "markdown",
   "id": "ac558ca2",
   "metadata": {},
   "source": [
    "![image.png](attachment:image.png)"
   ]
  },
  {
   "cell_type": "markdown",
   "id": "cb6cd327",
   "metadata": {},
   "source": [
    "![Screenshot 2020-09-23 at 00.27.00.png](data:image/png;base64,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)"
   ]
  },
  {
   "cell_type": "markdown",
   "id": "e2800e07",
   "metadata": {},
   "source": [
    "#### Recursive Functions for Coding"
   ]
  },
  {
   "cell_type": "code",
   "execution_count": 31,
   "id": "5e042dd9",
   "metadata": {},
   "outputs": [
    {
     "name": "stdout",
     "output_type": "stream",
     "text": [
      "5 !\n",
      "4 !\n",
      "3 !\n",
      "2 !\n",
      "1 !\n",
      "0 !\n"
     ]
    },
    {
     "data": {
      "text/plain": [
       "120"
      ]
     },
     "execution_count": 31,
     "metadata": {},
     "output_type": "execute_result"
    }
   ],
   "source": [
    "### COMPUTE A FACTORIAL NUMBER ###\n",
    "#classic example: calculating the factorial of a number\n",
    "# Characteristic of factorial number: n! = n x (n-1)!\n",
    "\n",
    "# Recursive function\n",
    "\n",
    "# Start by writing\n",
    "#local_factorial = n * factorial_recursive(n-1)\n",
    "\n",
    "def factorial_recursive(n):\n",
    "  print(n, '!')\n",
    "  # corner case: 1! = 1\n",
    "  if n <= 0:\n",
    "    return 1\n",
    "\n",
    "  # Recursive case: n! = n * (n-1)!\n",
    "  else:\n",
    "      local_factorial = n * factorial_recursive(n-1)\n",
    "      #print(\"Factorial for \" + str(n) +\"! is \" + str(local_factorial))\n",
    "      return local_factorial\n",
    "\n",
    "factorial_recursive(5)\n",
    "\n",
    "## Another way you think his could be done? \n",
    "# LOOPS"
   ]
  },
  {
   "cell_type": "markdown",
   "id": "252721ca",
   "metadata": {},
   "source": [
    "#### Recursive function for interactivity"
   ]
  },
  {
   "cell_type": "code",
   "execution_count": null,
   "id": "ac573bbc",
   "metadata": {},
   "outputs": [],
   "source": [
    "## With a while loop\n",
    "\n",
    "def user ():\n",
    "    \n",
    "    value = input(\"Please enter a value less than 5: \")\n",
    "    \n",
    "    while int(value) > 5:\n",
    "        value = input(\"Please enter a value less than 5: \")\n",
    "        \n",
    "    return int(value)\n",
    "\n",
    "user()\n",
    "\n",
    "## With Recursiveness\n",
    "\n",
    "def user ():\n",
    "    \n",
    "    value = input(\"Please enter a value less than 5: \")\n",
    "    \n",
    "    if int(value) > 5:\n",
    "        user()\n",
    "        \n",
    "    return int(value)\n",
    "\n",
    "user()"
   ]
  },
  {
   "cell_type": "markdown",
   "id": "704650a2",
   "metadata": {},
   "source": [
    "## Business challenge: Yoga Class Management"
   ]
  },
  {
   "cell_type": "markdown",
   "id": "cff37fea",
   "metadata": {},
   "source": [
    "\n",
    "### Business challenge: Yoga Class Management\n",
    "### Task Description:\n",
    "\n",
    "Imagine you are developing a program to manage yoga classes and students. Create a Python program that handles the following tasks:\n",
    "\n",
    "**1. Create Yoga Classes:**\n",
    "\n",
    "   Write a Python function called `create_yoga_class` that allows the user to create a new yoga class. The function should store information about the class, such as the class name, date, time, and maximum capacity. Use a dictionary to represent a class.\n",
    "\n",
    "**2. Register Students:**\n",
    "\n",
    "   Implement a function called `register_student` that allows students to register for a specific yoga class. Ensure that the program checks if the class is full before allowing registration.\n",
    "\n",
    "**3. Display Class Details:**\n",
    "\n",
    "   Write a function named `display_class_details` that takes a yoga class dictionary as input and displays all its details, including the class name, date, time, registered students, and available spots.\n",
    "\n",
    "**4. List All Classes:**\n",
    "\n",
    "   Create a function called `list_all_classes` that displays a list of all available yoga classes with their names and the number of available spots.\n",
    "\n",
    "**5. Search for Classes:**\n",
    "\n",
    "   Implement a function called `search_classes` that allows the user to search for yoga classes by specifying criteria such as date, time, or class name. Display a list of matching classes.\n",
    "\n",
    "**6. Remove Students:**\n",
    "\n",
    "   Write a function named `remove_student` that removes a student from a yoga class if they need to cancel their registration.\n",
    "\n",
    "**7. Generate Attendance Report:**\n",
    "\n",
    "   Create a function called `generate_attendance_report` that generates an attendance report for a specific yoga class. The report should include the names of all registered students.\n",
    "\n",
    "**Additional Instructions:**\n",
    "\n",
    "- Use appropriate data structures (lists, dictionaries) for storing yoga class information and managing student registrations.\n",
    "- Ensure that functions include proper docstrings, data type annotations, and clear variable naming.\n",
    "- Test your functions with sample data to verify their correctness.\n",
    "- Allow the program to handle multiple yoga classes simultaneously.\n",
    "\n",
    "**Bonus Challenge:**\n",
    "\n",
    "Extend the exercise by implementing user authentication to allow only authorized instructors to create and manage classes.\n",
    "\n",
    "This exercise will help students practice creating and using functions to manage yoga classes and students effectively.\n"
   ]
  },
  {
   "cell_type": "code",
   "execution_count": null,
   "id": "95c13bf2",
   "metadata": {},
   "outputs": [],
   "source": [
    "# Dictionary to store yoga classes and their details\n",
    "yoga_classes = {}\n",
    "\n",
    "\n",
    "def create_yoga_class(name, date, time, max_capacity):\n",
    "    #[your code here]\n",
    "\n",
    "\n",
    "def register_student(class_name, student_name):\n",
    "    #[your code here]\n",
    "\n",
    "\n",
    "def remove_student(class_name, student_name):\n",
    "    #[your code here]\n",
    "\n",
    "\n",
    "def generate_attendance_report(class_name):\n",
    "    #[your code here]\n",
    "\n",
    "\n",
    "def list_all_classes():\n",
    "    #[your code here]\n",
    "\n",
    "\n",
    "def search_classes(criteria):\n",
    "    #[your code here]\n",
    "\n",
    "\n",
    "# Sample usage of the functions\n",
    "print(create_yoga_class(\"Hatha Yoga\", \"2023-09-20\", \"10:00 AM\", 10))\n",
    "print(create_yoga_class(\"Vinyasa Flow\", \"2023-09-21\", \"2:00 PM\", 15))\n",
    "print(register_student(\"Hatha Yoga\", \"Alice\"))\n",
    "print(register_student(\"Hatha Yoga\", \"Bob\"))\n",
    "print(register_student(\"Vinyasa Flow\", \"Carol\"))\n",
    "print(generate_attendance_report(\"Hatha Yoga\"))\n",
    "print(remove_student(\"Hatha Yoga\", \"Alice\"))\n",
    "print(list_all_classes())\n",
    "print(search_classes(\"Vinyasa\"))"
   ]
  },
  {
   "cell_type": "markdown",
   "id": "4cb268d0",
   "metadata": {
    "lang": "en"
   },
   "source": [
    "## Summary"
   ]
  },
  {
   "cell_type": "markdown",
   "id": "f2f15921",
   "metadata": {},
   "source": [
    "- **FUNCTIONS**\n",
    "    - Code that performs actions.\n",
    "    - Three main types:\n",
    "        - Built-in\n",
    "        - User-defined\n",
    "        - Lambda\n",
    "            - Temporary and on-the-spot for simple tasks.\n",
    "            - Similar syntax to list comprehensions.\n",
    "            - Commonly used in pandas and other functions like `sorted(iterable, key=lambda...)`.\n",
    "\n",
    "- **PARADIGMS FOR CODING**\n",
    "    - Imperative\n",
    "    - Object-Oriented Programming (OOP)\n",
    "    - Functional\n",
    "\n",
    "- **PROCESS**\n",
    "    - 1. Define a function: `def name():`\n",
    "    - 2. Call a function: `name()`\n",
    "\n",
    "- **PARAMETERS**\n",
    "    - Parameters vs. Arguments\n",
    "        - Parameters: (placeholder1, placeholder2)\n",
    "        - Arguments: (3, 5)\n",
    "    - `*args`: For a variable number of arguments.\n",
    "    - `**kwargs`: For a variable number of keyword arguments.\n",
    "    - Default Parameters: `param_default=30`\n",
    "\n",
    "- **RETURN**\n",
    "    - Stops code execution after reading/executing.\n",
    "        - Be cautious with loops and multiple conditions.\n",
    "    - Allows storing the result in a variable.\n",
    "    - Functions can return variables and even other functions.\n",
    "    - Difference between `return` and `print`:\n",
    "        - `return`: Provides a value/something.\n",
    "        - `print`: Gives you NoneType; not suitable for further use.\n",
    "\n",
    "- **SCOPE**\n",
    "    - What happens in the function stays in the function unless saved to a return value.\n",
    "    \n",
    "    ```python\n",
    "    def addition(a, b):\n",
    "        something = a + b\n",
    "        return something\n",
    "    \n",
    "    result = addition(3, 5)\n",
    "    ```\n",
    "\n",
    "- **CALLING FUNCTIONS**\n",
    "    - Functions can be called inside other functions.\n",
    "    - Functions can call themselves (recursive functions).\n",
    "\n",
    "- **DOCSTRINGS**\n",
    "    - Descriptions of functions:\n",
    "        - What the function does.\n",
    "        - Parameters it accepts.\n",
    "        - What it returns.\n"
   ]
  },
  {
   "cell_type": "markdown",
   "id": "a9e5057e",
   "metadata": {},
   "source": [
    "## Solutions"
   ]
  },
  {
   "cell_type": "code",
   "execution_count": null,
   "id": "670b21ca",
   "metadata": {},
   "outputs": [],
   "source": [
    "# Exercise: Paradigm Exploration\n",
    "\n",
    "# Imperative Paradigm (Procedural Programming)\n",
    "# -------------------------------------------\n",
    "numbers = [1, 2, 3, 4, 5]\n",
    "sum_result = 0\n",
    "\n",
    "for num in numbers:\n",
    "    sum_result += num\n",
    "\n",
    "print(\"Imperative Paradigm Result:\", sum_result)\n",
    "\n",
    "# Object-Oriented Paradigm\n",
    "# -------------------------------------------\n",
    "class NumberProcessor:\n",
    "    def __init__(self, numbers):\n",
    "        self.numbers = numbers\n",
    "\n",
    "    def calculate_sum(self):\n",
    "        return sum(self.numbers)\n",
    "\n",
    "# Instantiate the class and call the method\n",
    "number_processor = NumberProcessor([1, 2, 3, 4, 5])\n",
    "result_object_oriented = number_processor.calculate_sum()\n",
    "print(\"Object-Oriented Paradigm Result:\", result_object_oriented)\n",
    "\n",
    "# Functional Paradigm\n",
    "# -------------------------------------------\n",
    "from functools import reduce\n",
    "\n",
    "def calculate_sum_functional(numbers):\n",
    "    return reduce(lambda x, y: x + y, numbers)\n",
    "\n",
    "# Call the function\n",
    "numbers = [1, 2, 3, 4, 5]\n",
    "result_functional = calculate_sum_functional(numbers)\n",
    "print(\"Functional Paradigm Result:\", result_functional)"
   ]
  },
  {
   "cell_type": "code",
   "execution_count": null,
   "id": "4ec427fb",
   "metadata": {},
   "outputs": [],
   "source": [
    "# Exercise: Sales Report Generator\n",
    "from typing import List, Tuple\n",
    "\n",
    "def generate_sales_report(store_name: str, date: str, *sales_data: Tuple[str, float, int], **kwargs) -> str:\n",
    "    \"\"\"\n",
    "    Generates a sales report based on store sales data.\n",
    "\n",
    "    Args:\n",
    "        store_name (str): The name of the retail store.\n",
    "        date (str): The date for the sales report.\n",
    "        *sales_data (Tuple[str, float, int]): Variable number of sales data tuples.\n",
    "            Each tuple contains (Item name, Unit price, Quantity sold).\n",
    "        **kwargs: Optional keyword arguments.\n",
    "            - include_tax (bool, default False): If True, calculate total sales with tax.\n",
    "            - currency (str, default 'USD'): The currency symbol to use in the report.\n",
    "\n",
    "    Returns:\n",
    "        str: A formatted sales report.\n",
    "\n",
    "    Example:\n",
    "        >>> generate_sales_report(\"Gadget Store\", \"2023-09-15\", (\"Phone\", 499.99, 10), (\"Tablet\", 299.99, 5), include_tax=True, currency='EUR')\n",
    "    \"\"\"\n",
    "    include_tax = kwargs.get('include_tax', False)\n",
    "    currency = kwargs.get('currency', 'USD')\n",
    "\n",
    "    total_sales = sum(price * quantity for _, price, quantity in sales_data)\n",
    "    total_items_sold = sum(quantity for _, _, quantity in sales_data)\n",
    "    average_unit_price = total_sales / total_items_sold if total_items_sold > 0 else 0.0\n",
    "\n",
    "    if include_tax:\n",
    "        total_sales_with_tax = total_sales * 1.10  # 10% sales tax\n",
    "    else:\n",
    "        total_sales_with_tax = total_sales\n",
    "\n",
    "    most_expensive_item = max(sales_data, key=lambda x: x[1])\n",
    "    least_expensive_item = min(sales_data, key=lambda x: x[1])\n",
    "\n",
    "    report = f\"Sales Report for {store_name} ({date})\\n\"\n",
    "    report += f\"---------------------------------\\n\"\n",
    "    report += f\"Total Sales Amount: {currency}{total_sales:.2f}\\n\"\n",
    "    report += f\"Average Unit Price: {currency}{average_unit_price:.2f}\\n\"\n",
    "    report += f\"Total Items Sold: {total_items_sold}\\n\"\n",
    "    report += f\"Most Expensive Item: {most_expensive_item[0]} ({currency}{most_expensive_item[1]:.2f})\\n\"\n",
    "    report += f\"Least Expensive Item: {least_expensive_item[0]} ({currency}{least_expensive_item[1]:.2f})\\n\"\n",
    "\n",
    "    if include_tax:\n",
    "        report += f\"Total Sales Amount (with 10% Tax): {currency}{total_sales_with_tax:.2f}\\n\"\n",
    "\n",
    "    return report\n",
    "\n",
    "# Example usage:\n",
    "sales_report = generate_sales_report(\"Gadget Store\", \"2023-09-15\", (\"Phone\", 499.99, 10), (\"Tablet\", 299.99, 5), include_tax=True, currency='EUR')\n",
    "print(sales_report)\n"
   ]
  },
  {
   "cell_type": "code",
   "execution_count": null,
   "id": "49cb040e",
   "metadata": {},
   "outputs": [],
   "source": [
    "# Business challenge: Yoga Class Management (Clean code)\n",
    "from typing import Dict, List, Optional\n",
    "\n",
    "# Dictionary to store yoga classes and their details\n",
    "yoga_classes: Dict[str, Dict[str, List[str]]] = {}\n",
    "\n",
    "\n",
    "def create_yoga_class(\n",
    "    name: str,\n",
    "    date: str,\n",
    "    time: str,\n",
    "    max_capacity: int\n",
    ") -> str:\n",
    "    \"\"\"\n",
    "    Create a new yoga class.\n",
    "\n",
    "    Args:\n",
    "        name (str): The name of the yoga class.\n",
    "        date (str): The date of the class (e.g., \"2023-09-20\").\n",
    "        time (str): The time of the class (e.g., \"10:00 AM\").\n",
    "        max_capacity (int): The maximum capacity of the class.\n",
    "\n",
    "    Returns:\n",
    "        str: A message indicating the result of the operation.\n",
    "    \"\"\"\n",
    "    if name not in yoga_classes:\n",
    "        yoga_classes[name] = {\n",
    "            \"date\": date,\n",
    "            \"time\": time,\n",
    "            \"max_capacity\": max_capacity,\n",
    "            \"students\": []\n",
    "        }\n",
    "        return f\"{name} class has been created.\"\n",
    "    else:\n",
    "        return f\"A class with the name {name} already exists.\"\n",
    "\n",
    "\n",
    "def register_student(\n",
    "    class_name: str,\n",
    "    student_name: str\n",
    ") -> str:\n",
    "    \"\"\"\n",
    "    Register a student for a yoga class.\n",
    "\n",
    "    Args:\n",
    "        class_name (str): The name of the yoga class.\n",
    "        student_name (str): The name of the student.\n",
    "\n",
    "    Returns:\n",
    "        str: A message indicating the result of the registration.\n",
    "    \"\"\"\n",
    "    if class_name in yoga_classes:\n",
    "        yoga_class = yoga_classes[class_name]\n",
    "        if len(yoga_class[\"students\"]) < yoga_class[\"max_capacity\"]:\n",
    "            yoga_class[\"students\"].append(student_name)\n",
    "            return f\"{student_name} has been registered for {class_name}.\"\n",
    "        else:\n",
    "            return f\"Sorry, {class_name} is full. Cannot register {student_name}.\"\n",
    "    else:\n",
    "        return f\"No class found with the name {class_name}.\"\n",
    "\n",
    "\n",
    "def remove_student(\n",
    "    class_name: str,\n",
    "    student_name: str\n",
    ") -> str:\n",
    "    \"\"\"\n",
    "    Remove a student from a yoga class.\n",
    "\n",
    "    Args:\n",
    "        class_name (str): The name of the yoga class.\n",
    "        student_name (str): The name of the student.\n",
    "\n",
    "    Returns:\n",
    "        str: A message indicating the result of the removal.\n",
    "    \"\"\"\n",
    "    if class_name in yoga_classes:\n",
    "        yoga_class = yoga_classes[class_name]\n",
    "        if student_name in yoga_class[\"students\"]:\n",
    "            yoga_class[\"students\"].remove(student_name)\n",
    "            return f\"{student_name} has been removed from {class_name}.\"\n",
    "        else:\n",
    "            return f\"{student_name} is not registered for {class_name}.\"\n",
    "    else:\n",
    "        return f\"No class found with the name {class_name}.\"\n",
    "\n",
    "\n",
    "def generate_attendance_report(\n",
    "    class_name: str\n",
    ") -> str:\n",
    "    \"\"\"\n",
    "    Generate an attendance report for a yoga class.\n",
    "\n",
    "    Args:\n",
    "        class_name (str): The name of the yoga class.\n",
    "\n",
    "    Returns:\n",
    "        str: The attendance report.\n",
    "    \"\"\"\n",
    "    if class_name in yoga_classes:\n",
    "        yoga_class = yoga_classes[class_name]\n",
    "        return f\"Attendance report for {class_name}:\\n{', '.join(yoga_class['students'])}\"\n",
    "    else:\n",
    "        return f\"No class found with the name {class_name}.\"\n",
    "\n",
    "\n",
    "def list_all_classes() -> str:\n",
    "    \"\"\"\n",
    "    List all available yoga classes.\n",
    "\n",
    "    Returns:\n",
    "        str: A list of all available classes.\n",
    "    \"\"\"\n",
    "    return f\"All Available Classes: {', '.join(yoga_classes.keys())}\"\n",
    "\n",
    "\n",
    "def search_classes(\n",
    "    criteria: str\n",
    ") -> str:\n",
    "    \"\"\"\n",
    "    Search for yoga classes based on a search criteria.\n",
    "\n",
    "    Args:\n",
    "        criteria (str): The search criteria.\n",
    "\n",
    "    Returns:\n",
    "        str: A list of matching classes.\n",
    "    \"\"\"\n",
    "    matching_classes = [class_name for class_name, details in yoga_classes.items()\n",
    "                        if criteria in class_name or criteria in details[\"date\"] or criteria in details[\"time\"]]\n",
    "    if matching_classes:\n",
    "        return f\"Matching Classes: {', '.join(matching_classes)}\"\n",
    "    else:\n",
    "        return f\"No classes found matching the criteria '{criteria}'.\"\n",
    "\n",
    "\n",
    "# Sample usage of the functions\n",
    "print(create_yoga_class(\"Hatha Yoga\", \"2023-09-20\", \"10:00 AM\", 10))\n",
    "print(create_yoga_class(\"Vinyasa Flow\", \"2023-09-21\", \"2:00 PM\", 15))\n",
    "\n",
    "print(register_student(\"Hatha Yoga\", \"Alice\"))\n",
    "print(register_student(\"Hatha Yoga\", \"Bob\"))\n",
    "print(register_student(\"Vinyasa Flow\", \"Carol\"))\n",
    "\n",
    "print(generate_attendance_report(\"Hatha Yoga\"))\n",
    "\n",
    "print(remove_student(\"Hatha Yoga\", \"Alice\"))\n",
    "\n",
    "print(list_all_classes())\n",
    "\n",
    "print(search_classes(\"Vinyasa\"))"
   ]
  },
  {
   "cell_type": "code",
   "execution_count": null,
   "id": "7d62dfb4",
   "metadata": {},
   "outputs": [],
   "source": [
    "# Business challenge: Yoga Class Management\n",
    "# Dictionary to store yoga classes and their details\n",
    "yoga_classes = {}\n",
    "\n",
    "\n",
    "def create_yoga_class(name, date, time, max_capacity):\n",
    "    if name not in yoga_classes:\n",
    "        yoga_classes[name] = {\n",
    "            \"date\": date,\n",
    "            \"time\": time,\n",
    "            \"max_capacity\": max_capacity,\n",
    "            \"students\": []\n",
    "        }\n",
    "        return f\"{name} class has been created.\"\n",
    "    else:\n",
    "        return f\"A class with the name {name} already exists.\"\n",
    "\n",
    "\n",
    "def register_student(class_name, student_name):\n",
    "    if class_name in yoga_classes:\n",
    "        yoga_class = yoga_classes[class_name]\n",
    "        if len(yoga_class[\"students\"]) < yoga_class[\"max_capacity\"]:\n",
    "            yoga_class[\"students\"].append(student_name)\n",
    "            return f\"{student_name} has been registered for {class_name}.\"\n",
    "        else:\n",
    "            return f\"Sorry, {class_name} is full. Cannot register {student_name}.\"\n",
    "    else:\n",
    "        return f\"No class found with the name {class_name}.\"\n",
    "\n",
    "\n",
    "def remove_student(class_name, student_name):\n",
    "    if class_name in yoga_classes:\n",
    "        yoga_class = yoga_classes[class_name]\n",
    "        if student_name in yoga_class[\"students\"]:\n",
    "            yoga_class[\"students\"].remove(student_name)\n",
    "            return f\"{student_name} has been removed from {class_name}.\"\n",
    "        else:\n",
    "            return f\"{student_name} is not registered for {class_name}.\"\n",
    "    else:\n",
    "        return f\"No class found with the name {class_name}.\"\n",
    "\n",
    "\n",
    "def generate_attendance_report(class_name):\n",
    "    if class_name in yoga_classes:\n",
    "        yoga_class = yoga_classes[class_name]\n",
    "        return f\"Attendance report for {class_name}:\\n{', '.join(yoga_class['students'])}\"\n",
    "    else:\n",
    "        return f\"No class found with the name {class_name}.\"\n",
    "\n",
    "\n",
    "def list_all_classes():\n",
    "    return f\"All Available Classes: {', '.join(yoga_classes.keys())}\"\n",
    "\n",
    "\n",
    "def search_classes(criteria):\n",
    "    matching_classes = [class_name for class_name, details in yoga_classes.items()\n",
    "                        if criteria in class_name or criteria in details[\"date\"] or criteria in details[\"time\"]]\n",
    "    if matching_classes:\n",
    "        return f\"Matching Classes: {', '.join(matching_classes)}\"\n",
    "    else:\n",
    "        return f\"No classes found matching the criteria '{criteria}'.\"\n",
    "\n",
    "\n",
    "# Sample usage of the functions\n",
    "print(create_yoga_class(\"Hatha Yoga\", \"2023-09-20\", \"10:00 AM\", 10))\n",
    "print(create_yoga_class(\"Vinyasa Flow\", \"2023-09-21\", \"2:00 PM\", 15))\n",
    "\n",
    "print(register_student(\"Hatha Yoga\", \"Alice\"))\n",
    "print(register_student(\"Hatha Yoga\", \"Bob\"))\n",
    "print(register_student(\"Vinyasa Flow\", \"Carol\"))\n",
    "\n",
    "print(generate_attendance_report(\"Hatha Yoga\"))\n",
    "\n",
    "print(remove_student(\"Hatha Yoga\", \"Alice\"))\n",
    "\n",
    "print(list_all_classes())\n",
    "\n",
    "print(search_classes(\"Vinyasa\"))\n"
   ]
  }
 ],
 "metadata": {
  "kernelspec": {
   "display_name": "Python 3 (ipykernel)",
   "language": "python",
   "name": "python3"
  },
  "language_info": {
   "codemirror_mode": {
    "name": "ipython",
    "version": 3
   },
   "file_extension": ".py",
   "mimetype": "text/x-python",
   "name": "python",
   "nbconvert_exporter": "python",
   "pygments_lexer": "ipython3",
   "version": "3.11.6"
  },
  "nbTranslate": {
   "displayLangs": [
    "en",
    "es"
   ],
   "hotkey": "alt-a",
   "langInMainMenu": true,
   "sourceLang": "es",
   "targetLang": "en",
   "useGoogleTranslate": true
  },
  "toc": {
   "base_numbering": 1,
   "nav_menu": {},
   "number_sections": true,
   "sideBar": true,
   "skip_h1_title": true,
   "title_cell": "Table of Contents",
   "title_sidebar": "Contents",
   "toc_cell": true,
   "toc_position": {
    "height": "calc(100% - 180px)",
    "left": "10px",
    "top": "150px",
    "width": "288px"
   },
   "toc_section_display": true,
   "toc_window_display": false
  }
 },
 "nbformat": 4,
 "nbformat_minor": 5
}
